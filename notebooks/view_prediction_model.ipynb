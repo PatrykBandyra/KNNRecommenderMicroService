{
 "cells": [
  {
   "cell_type": "code",
   "execution_count": 4,
   "id": "c77ce33e",
   "metadata": {},
   "outputs": [],
   "source": [
    "import numpy as np\n",
    "import pandas as pd\n",
    "from sklearn.metrics.pairwise import euclidean_distances\n",
    "from sklearn.metrics.pairwise import cosine_similarity\n",
    "from sklearn.feature_extraction.text import TfidfVectorizer\n",
    "from sklearn.preprocessing import MinMaxScaler"
   ]
  },
  {
   "cell_type": "code",
   "execution_count": 6,
   "id": "c16cf03f",
   "metadata": {},
   "outputs": [],
   "source": [
    "users = pd.read_json(\"../data/raw/users.jsonl\", lines=True)\n",
    "sessions = pd.read_json(\"../data/raw/sessions.jsonl\", lines=True)\n",
    "products = pd.read_json(\"../data/raw/products.jsonl\", lines=True)"
   ]
  },
  {
   "cell_type": "code",
   "execution_count": 7,
   "id": "9d4f9558",
   "metadata": {},
   "outputs": [
    {
     "data": {
      "text/plain": "        session_id           timestamp  user_id  product_id    event_type  \\\n0              124 2021-07-30 00:57:46      102        1040  VIEW_PRODUCT   \n1              125 2021-05-13 04:51:17      102        1297  VIEW_PRODUCT   \n2              126 2021-03-26 17:23:58      102        1288  VIEW_PRODUCT   \n3              126 2021-03-26 17:25:28      102        1151  VIEW_PRODUCT   \n4              126 2021-03-26 17:26:46      102        1055  VIEW_PRODUCT   \n...            ...                 ...      ...         ...           ...   \n118386       20275 2021-06-07 01:00:33      301        1052  VIEW_PRODUCT   \n118387       20275 2021-06-07 01:00:44      301        1153  VIEW_PRODUCT   \n118388       20275 2021-06-07 01:03:47      301        1054  VIEW_PRODUCT   \n118389       20275 2021-06-07 01:05:02      301        1049  VIEW_PRODUCT   \n118390       20275 2021-06-07 01:09:34      301        1049   BUY_PRODUCT   \n\n        offered_discount  purchase_id  score  \n0                     10          NaN      5  \n1                      0          NaN      5  \n2                      0          NaN      5  \n3                      0          NaN      5  \n4                      0          NaN      5  \n...                  ...          ...    ...  \n118386                10          NaN      5  \n118387                10          NaN      5  \n118388                10          NaN      5  \n118389                10          NaN      5  \n118390                10      29378.0      5  \n\n[118391 rows x 8 columns]",
      "text/html": "<div>\n<style scoped>\n    .dataframe tbody tr th:only-of-type {\n        vertical-align: middle;\n    }\n\n    .dataframe tbody tr th {\n        vertical-align: top;\n    }\n\n    .dataframe thead th {\n        text-align: right;\n    }\n</style>\n<table border=\"1\" class=\"dataframe\">\n  <thead>\n    <tr style=\"text-align: right;\">\n      <th></th>\n      <th>session_id</th>\n      <th>timestamp</th>\n      <th>user_id</th>\n      <th>product_id</th>\n      <th>event_type</th>\n      <th>offered_discount</th>\n      <th>purchase_id</th>\n      <th>score</th>\n    </tr>\n  </thead>\n  <tbody>\n    <tr>\n      <th>0</th>\n      <td>124</td>\n      <td>2021-07-30 00:57:46</td>\n      <td>102</td>\n      <td>1040</td>\n      <td>VIEW_PRODUCT</td>\n      <td>10</td>\n      <td>NaN</td>\n      <td>5</td>\n    </tr>\n    <tr>\n      <th>1</th>\n      <td>125</td>\n      <td>2021-05-13 04:51:17</td>\n      <td>102</td>\n      <td>1297</td>\n      <td>VIEW_PRODUCT</td>\n      <td>0</td>\n      <td>NaN</td>\n      <td>5</td>\n    </tr>\n    <tr>\n      <th>2</th>\n      <td>126</td>\n      <td>2021-03-26 17:23:58</td>\n      <td>102</td>\n      <td>1288</td>\n      <td>VIEW_PRODUCT</td>\n      <td>0</td>\n      <td>NaN</td>\n      <td>5</td>\n    </tr>\n    <tr>\n      <th>3</th>\n      <td>126</td>\n      <td>2021-03-26 17:25:28</td>\n      <td>102</td>\n      <td>1151</td>\n      <td>VIEW_PRODUCT</td>\n      <td>0</td>\n      <td>NaN</td>\n      <td>5</td>\n    </tr>\n    <tr>\n      <th>4</th>\n      <td>126</td>\n      <td>2021-03-26 17:26:46</td>\n      <td>102</td>\n      <td>1055</td>\n      <td>VIEW_PRODUCT</td>\n      <td>0</td>\n      <td>NaN</td>\n      <td>5</td>\n    </tr>\n    <tr>\n      <th>...</th>\n      <td>...</td>\n      <td>...</td>\n      <td>...</td>\n      <td>...</td>\n      <td>...</td>\n      <td>...</td>\n      <td>...</td>\n      <td>...</td>\n    </tr>\n    <tr>\n      <th>118386</th>\n      <td>20275</td>\n      <td>2021-06-07 01:00:33</td>\n      <td>301</td>\n      <td>1052</td>\n      <td>VIEW_PRODUCT</td>\n      <td>10</td>\n      <td>NaN</td>\n      <td>5</td>\n    </tr>\n    <tr>\n      <th>118387</th>\n      <td>20275</td>\n      <td>2021-06-07 01:00:44</td>\n      <td>301</td>\n      <td>1153</td>\n      <td>VIEW_PRODUCT</td>\n      <td>10</td>\n      <td>NaN</td>\n      <td>5</td>\n    </tr>\n    <tr>\n      <th>118388</th>\n      <td>20275</td>\n      <td>2021-06-07 01:03:47</td>\n      <td>301</td>\n      <td>1054</td>\n      <td>VIEW_PRODUCT</td>\n      <td>10</td>\n      <td>NaN</td>\n      <td>5</td>\n    </tr>\n    <tr>\n      <th>118389</th>\n      <td>20275</td>\n      <td>2021-06-07 01:05:02</td>\n      <td>301</td>\n      <td>1049</td>\n      <td>VIEW_PRODUCT</td>\n      <td>10</td>\n      <td>NaN</td>\n      <td>5</td>\n    </tr>\n    <tr>\n      <th>118390</th>\n      <td>20275</td>\n      <td>2021-06-07 01:09:34</td>\n      <td>301</td>\n      <td>1049</td>\n      <td>BUY_PRODUCT</td>\n      <td>10</td>\n      <td>29378.0</td>\n      <td>5</td>\n    </tr>\n  </tbody>\n</table>\n<p>118391 rows × 8 columns</p>\n</div>"
     },
     "execution_count": 7,
     "metadata": {},
     "output_type": "execute_result"
    }
   ],
   "source": [
    "sessions['score'] = sessions['event_type'].map({'VIEW_PRODUCT':5, 'BUY_PRODUCT':5})\n",
    "sessions"
   ]
  },
  {
   "cell_type": "code",
   "execution_count": 8,
   "id": "0288a92d",
   "metadata": {},
   "outputs": [
    {
     "data": {
      "text/plain": "       user_id  product_id  score  user_view\n0          102        1001    0.0          0\n1          102        1002    5.0          1\n2          102        1003    5.0          1\n3          102        1004    5.0          1\n4          102        1005    5.0          1\n...        ...         ...    ...        ...\n63795      301        1315    5.0          1\n63796      301        1316    5.0          1\n63797      301        1317    5.0          1\n63798      301        1318    5.0          1\n63799      301        1319    0.0          0\n\n[63800 rows x 4 columns]",
      "text/html": "<div>\n<style scoped>\n    .dataframe tbody tr th:only-of-type {\n        vertical-align: middle;\n    }\n\n    .dataframe tbody tr th {\n        vertical-align: top;\n    }\n\n    .dataframe thead th {\n        text-align: right;\n    }\n</style>\n<table border=\"1\" class=\"dataframe\">\n  <thead>\n    <tr style=\"text-align: right;\">\n      <th></th>\n      <th>user_id</th>\n      <th>product_id</th>\n      <th>score</th>\n      <th>user_view</th>\n    </tr>\n  </thead>\n  <tbody>\n    <tr>\n      <th>0</th>\n      <td>102</td>\n      <td>1001</td>\n      <td>0.0</td>\n      <td>0</td>\n    </tr>\n    <tr>\n      <th>1</th>\n      <td>102</td>\n      <td>1002</td>\n      <td>5.0</td>\n      <td>1</td>\n    </tr>\n    <tr>\n      <th>2</th>\n      <td>102</td>\n      <td>1003</td>\n      <td>5.0</td>\n      <td>1</td>\n    </tr>\n    <tr>\n      <th>3</th>\n      <td>102</td>\n      <td>1004</td>\n      <td>5.0</td>\n      <td>1</td>\n    </tr>\n    <tr>\n      <th>4</th>\n      <td>102</td>\n      <td>1005</td>\n      <td>5.0</td>\n      <td>1</td>\n    </tr>\n    <tr>\n      <th>...</th>\n      <td>...</td>\n      <td>...</td>\n      <td>...</td>\n      <td>...</td>\n    </tr>\n    <tr>\n      <th>63795</th>\n      <td>301</td>\n      <td>1315</td>\n      <td>5.0</td>\n      <td>1</td>\n    </tr>\n    <tr>\n      <th>63796</th>\n      <td>301</td>\n      <td>1316</td>\n      <td>5.0</td>\n      <td>1</td>\n    </tr>\n    <tr>\n      <th>63797</th>\n      <td>301</td>\n      <td>1317</td>\n      <td>5.0</td>\n      <td>1</td>\n    </tr>\n    <tr>\n      <th>63798</th>\n      <td>301</td>\n      <td>1318</td>\n      <td>5.0</td>\n      <td>1</td>\n    </tr>\n    <tr>\n      <th>63799</th>\n      <td>301</td>\n      <td>1319</td>\n      <td>0.0</td>\n      <td>0</td>\n    </tr>\n  </tbody>\n</table>\n<p>63800 rows × 4 columns</p>\n</div>"
     },
     "execution_count": 8,
     "metadata": {},
     "output_type": "execute_result"
    }
   ],
   "source": [
    "group = sessions.groupby(['user_id', 'product_id'])['score'].sum().reset_index()\n",
    "group['score'] = group['score'].apply(lambda x: 5 if x>5 else x)\n",
    "group = pd.pivot_table(group, values='score', index='user_id', columns='product_id')\n",
    "group = group.fillna(0)\n",
    "group = group.stack().reset_index()\n",
    "group = group.rename(columns={0:'score'})\n",
    "group['user_view'] = group['score'].apply(lambda x: 1 if x > 0 else 0)\n",
    "group"
   ]
  },
  {
   "cell_type": "code",
   "execution_count": 9,
   "id": "d8a5198e",
   "metadata": {},
   "outputs": [
    {
     "data": {
      "text/plain": "       user_id  product_id  score  user_view  interaction_score\n0          102        1001    0.0          0                0.0\n1          102        1002    5.0          1                1.0\n2          102        1003    5.0          1                1.0\n3          102        1004    5.0          1                1.0\n4          102        1005    5.0          1                1.0\n...        ...         ...    ...        ...                ...\n63795      301        1315    5.0          1                1.0\n63796      301        1316    5.0          1                1.0\n63797      301        1317    5.0          1                1.0\n63798      301        1318    5.0          1                1.0\n63799      301        1319    0.0          0                0.0\n\n[63800 rows x 5 columns]",
      "text/html": "<div>\n<style scoped>\n    .dataframe tbody tr th:only-of-type {\n        vertical-align: middle;\n    }\n\n    .dataframe tbody tr th {\n        vertical-align: top;\n    }\n\n    .dataframe thead th {\n        text-align: right;\n    }\n</style>\n<table border=\"1\" class=\"dataframe\">\n  <thead>\n    <tr style=\"text-align: right;\">\n      <th></th>\n      <th>user_id</th>\n      <th>product_id</th>\n      <th>score</th>\n      <th>user_view</th>\n      <th>interaction_score</th>\n    </tr>\n  </thead>\n  <tbody>\n    <tr>\n      <th>0</th>\n      <td>102</td>\n      <td>1001</td>\n      <td>0.0</td>\n      <td>0</td>\n      <td>0.0</td>\n    </tr>\n    <tr>\n      <th>1</th>\n      <td>102</td>\n      <td>1002</td>\n      <td>5.0</td>\n      <td>1</td>\n      <td>1.0</td>\n    </tr>\n    <tr>\n      <th>2</th>\n      <td>102</td>\n      <td>1003</td>\n      <td>5.0</td>\n      <td>1</td>\n      <td>1.0</td>\n    </tr>\n    <tr>\n      <th>3</th>\n      <td>102</td>\n      <td>1004</td>\n      <td>5.0</td>\n      <td>1</td>\n      <td>1.0</td>\n    </tr>\n    <tr>\n      <th>4</th>\n      <td>102</td>\n      <td>1005</td>\n      <td>5.0</td>\n      <td>1</td>\n      <td>1.0</td>\n    </tr>\n    <tr>\n      <th>...</th>\n      <td>...</td>\n      <td>...</td>\n      <td>...</td>\n      <td>...</td>\n      <td>...</td>\n    </tr>\n    <tr>\n      <th>63795</th>\n      <td>301</td>\n      <td>1315</td>\n      <td>5.0</td>\n      <td>1</td>\n      <td>1.0</td>\n    </tr>\n    <tr>\n      <th>63796</th>\n      <td>301</td>\n      <td>1316</td>\n      <td>5.0</td>\n      <td>1</td>\n      <td>1.0</td>\n    </tr>\n    <tr>\n      <th>63797</th>\n      <td>301</td>\n      <td>1317</td>\n      <td>5.0</td>\n      <td>1</td>\n      <td>1.0</td>\n    </tr>\n    <tr>\n      <th>63798</th>\n      <td>301</td>\n      <td>1318</td>\n      <td>5.0</td>\n      <td>1</td>\n      <td>1.0</td>\n    </tr>\n    <tr>\n      <th>63799</th>\n      <td>301</td>\n      <td>1319</td>\n      <td>0.0</td>\n      <td>0</td>\n      <td>0.0</td>\n    </tr>\n  </tbody>\n</table>\n<p>63800 rows × 5 columns</p>\n</div>"
     },
     "execution_count": 9,
     "metadata": {},
     "output_type": "execute_result"
    }
   ],
   "source": [
    "std = MinMaxScaler(feature_range=(0, 1))\n",
    "std.fit(group['score'].values.reshape(-1,1))\n",
    "group['interaction_score'] = std.transform(group['score'].values.reshape(-1,1))\n",
    "\n",
    "group"
   ]
  },
  {
   "cell_type": "code",
   "execution_count": 10,
   "id": "715b3190",
   "metadata": {},
   "outputs": [],
   "source": [
    "def price_bin(price):\n",
    "    if price <= 25:\n",
    "        return 0\n",
    "    if price <= 50:\n",
    "        return 1\n",
    "    if price <= 100:\n",
    "        return 2\n",
    "    if price <= 250:\n",
    "        return 3\n",
    "    if price <= 500:\n",
    "        return 4\n",
    "    if price <= 1000:\n",
    "        return 5\n",
    "    if price <= 2000:\n",
    "        return 6\n",
    "    if price <= 4000:\n",
    "        return 7\n",
    "    else:\n",
    "        return 8"
   ]
  },
  {
   "cell_type": "code",
   "execution_count": 11,
   "id": "8133d8ad",
   "metadata": {},
   "outputs": [],
   "source": [
    "def rating_bin(rating):\n",
    "    if rating <= 0.5:\n",
    "        return 0\n",
    "    if rating <= 1.5:\n",
    "        return 1\n",
    "    if rating <= 2.5:\n",
    "        return 2\n",
    "    if rating <= 3.5:\n",
    "        return 3\n",
    "    if rating <= 4.5:\n",
    "        return 4\n",
    "    else:\n",
    "        return 5"
   ]
  },
  {
   "cell_type": "code",
   "execution_count": 12,
   "id": "fe0235e8",
   "metadata": {},
   "outputs": [
    {
     "data": {
      "text/plain": "       user_id  product_id                                    product_name  \\\n0          102        1001                   Telefon Siemens Gigaset DA310   \n1          102        1002                              Kyocera FS-1135MFP   \n2          102        1003                              Kyocera FS-3640MFP   \n3          102        1004                            Fallout 3 (Xbox 360)   \n4          102        1005  Szalone Króliki Na żywo i w kolorze (Xbox 360)   \n...        ...         ...                                             ...   \n63795      301        1315                                      Jabra Talk   \n63796      301        1316                      Plantronics Voyager Legend   \n63797      301        1317                           Plantronics Savi W740   \n63798      301        1318                           Plantronics Savi W710   \n63799      301        1319                                     HTC HS-S200   \n\n                                           category_path  price  user_rating  \\\n0              Telefony i akcesoria;Telefony stacjonarne      2            5   \n1      Komputery;Drukarki i skanery;Biurowe urządzeni...      7            1   \n2      Komputery;Drukarki i skanery;Biurowe urządzeni...      8            4   \n3              Gry i konsole;Gry na konsole;Gry Xbox 360      1            3   \n4              Gry i konsole;Gry na konsole;Gry Xbox 360      1            0   \n...                                                  ...    ...          ...   \n63795  Telefony i akcesoria;Akcesoria telefoniczne;Ze...      2            0   \n63796  Telefony i akcesoria;Akcesoria telefoniczne;Ze...      3            4   \n63797  Telefony i akcesoria;Akcesoria telefoniczne;Ze...      6            4   \n63798                         Sprzęt RTV;Audio;Słuchawki      5            5   \n63799  Telefony i akcesoria;Akcesoria telefoniczne;Ze...      0            5   \n\n       score  interaction_score  user_view  \n0        0.0                0.0          0  \n1        5.0                1.0          1  \n2        5.0                1.0          1  \n3        5.0                1.0          1  \n4        5.0                1.0          1  \n...      ...                ...        ...  \n63795    5.0                1.0          1  \n63796    5.0                1.0          1  \n63797    5.0                1.0          1  \n63798    5.0                1.0          1  \n63799    0.0                0.0          0  \n\n[63800 rows x 9 columns]",
      "text/html": "<div>\n<style scoped>\n    .dataframe tbody tr th:only-of-type {\n        vertical-align: middle;\n    }\n\n    .dataframe tbody tr th {\n        vertical-align: top;\n    }\n\n    .dataframe thead th {\n        text-align: right;\n    }\n</style>\n<table border=\"1\" class=\"dataframe\">\n  <thead>\n    <tr style=\"text-align: right;\">\n      <th></th>\n      <th>user_id</th>\n      <th>product_id</th>\n      <th>product_name</th>\n      <th>category_path</th>\n      <th>price</th>\n      <th>user_rating</th>\n      <th>score</th>\n      <th>interaction_score</th>\n      <th>user_view</th>\n    </tr>\n  </thead>\n  <tbody>\n    <tr>\n      <th>0</th>\n      <td>102</td>\n      <td>1001</td>\n      <td>Telefon Siemens Gigaset DA310</td>\n      <td>Telefony i akcesoria;Telefony stacjonarne</td>\n      <td>2</td>\n      <td>5</td>\n      <td>0.0</td>\n      <td>0.0</td>\n      <td>0</td>\n    </tr>\n    <tr>\n      <th>1</th>\n      <td>102</td>\n      <td>1002</td>\n      <td>Kyocera FS-1135MFP</td>\n      <td>Komputery;Drukarki i skanery;Biurowe urządzeni...</td>\n      <td>7</td>\n      <td>1</td>\n      <td>5.0</td>\n      <td>1.0</td>\n      <td>1</td>\n    </tr>\n    <tr>\n      <th>2</th>\n      <td>102</td>\n      <td>1003</td>\n      <td>Kyocera FS-3640MFP</td>\n      <td>Komputery;Drukarki i skanery;Biurowe urządzeni...</td>\n      <td>8</td>\n      <td>4</td>\n      <td>5.0</td>\n      <td>1.0</td>\n      <td>1</td>\n    </tr>\n    <tr>\n      <th>3</th>\n      <td>102</td>\n      <td>1004</td>\n      <td>Fallout 3 (Xbox 360)</td>\n      <td>Gry i konsole;Gry na konsole;Gry Xbox 360</td>\n      <td>1</td>\n      <td>3</td>\n      <td>5.0</td>\n      <td>1.0</td>\n      <td>1</td>\n    </tr>\n    <tr>\n      <th>4</th>\n      <td>102</td>\n      <td>1005</td>\n      <td>Szalone Króliki Na żywo i w kolorze (Xbox 360)</td>\n      <td>Gry i konsole;Gry na konsole;Gry Xbox 360</td>\n      <td>1</td>\n      <td>0</td>\n      <td>5.0</td>\n      <td>1.0</td>\n      <td>1</td>\n    </tr>\n    <tr>\n      <th>...</th>\n      <td>...</td>\n      <td>...</td>\n      <td>...</td>\n      <td>...</td>\n      <td>...</td>\n      <td>...</td>\n      <td>...</td>\n      <td>...</td>\n      <td>...</td>\n    </tr>\n    <tr>\n      <th>63795</th>\n      <td>301</td>\n      <td>1315</td>\n      <td>Jabra Talk</td>\n      <td>Telefony i akcesoria;Akcesoria telefoniczne;Ze...</td>\n      <td>2</td>\n      <td>0</td>\n      <td>5.0</td>\n      <td>1.0</td>\n      <td>1</td>\n    </tr>\n    <tr>\n      <th>63796</th>\n      <td>301</td>\n      <td>1316</td>\n      <td>Plantronics Voyager Legend</td>\n      <td>Telefony i akcesoria;Akcesoria telefoniczne;Ze...</td>\n      <td>3</td>\n      <td>4</td>\n      <td>5.0</td>\n      <td>1.0</td>\n      <td>1</td>\n    </tr>\n    <tr>\n      <th>63797</th>\n      <td>301</td>\n      <td>1317</td>\n      <td>Plantronics Savi W740</td>\n      <td>Telefony i akcesoria;Akcesoria telefoniczne;Ze...</td>\n      <td>6</td>\n      <td>4</td>\n      <td>5.0</td>\n      <td>1.0</td>\n      <td>1</td>\n    </tr>\n    <tr>\n      <th>63798</th>\n      <td>301</td>\n      <td>1318</td>\n      <td>Plantronics Savi W710</td>\n      <td>Sprzęt RTV;Audio;Słuchawki</td>\n      <td>5</td>\n      <td>5</td>\n      <td>5.0</td>\n      <td>1.0</td>\n      <td>1</td>\n    </tr>\n    <tr>\n      <th>63799</th>\n      <td>301</td>\n      <td>1319</td>\n      <td>HTC HS-S200</td>\n      <td>Telefony i akcesoria;Akcesoria telefoniczne;Ze...</td>\n      <td>0</td>\n      <td>5</td>\n      <td>0.0</td>\n      <td>0.0</td>\n      <td>0</td>\n    </tr>\n  </tbody>\n</table>\n<p>63800 rows × 9 columns</p>\n</div>"
     },
     "execution_count": 12,
     "metadata": {},
     "output_type": "execute_result"
    }
   ],
   "source": [
    "group = pd.merge(group, products, on=\"product_id\", how=\"left\")\n",
    "group = pd.merge(group, users, on=\"user_id\", how=\"left\")\n",
    "group = group[['user_id', 'product_id', 'product_name', 'category_path', 'price', 'user_rating', 'score', 'interaction_score', 'user_view']]\n",
    "group['price'] = group['price'].apply(lambda x: price_bin(x))\n",
    "group['user_rating'] = group['user_rating'].apply(lambda x: rating_bin(x))\n",
    "group"
   ]
  },
  {
   "cell_type": "code",
   "execution_count": 13,
   "id": "3274e989",
   "metadata": {},
   "outputs": [
    {
     "data": {
      "text/plain": "       user_id  product_id                                   product_name  \\\n2          102        1003                             Kyocera FS-3640MFP   \n6          102        1007                        Dead Space 3 (Xbox 360)   \n7          102        1008  Tom Clancy&#39;s Rainbow Six Vegas (Xbox 360)   \n8          102        1009                     Kinect Joy Ride (Xbox 360)   \n9          102        1010                          BioShock 2 (Xbox 360)   \n...        ...         ...                                            ...   \n63794      301        1314                Assassin&#39;s Creed (Xbox 360)   \n63795      301        1315                                     Jabra Talk   \n63796      301        1316                     Plantronics Voyager Legend   \n63797      301        1317                          Plantronics Savi W740   \n63798      301        1318                          Plantronics Savi W710   \n\n                                           category_path  price  user_rating  \\\n2      Komputery;Drukarki i skanery;Biurowe urządzeni...      8            4   \n6              Gry i konsole;Gry na konsole;Gry Xbox 360      2            5   \n7              Gry i konsole;Gry na konsole;Gry Xbox 360      1            5   \n8              Gry i konsole;Gry na konsole;Gry Xbox 360      2            1   \n9              Gry i konsole;Gry na konsole;Gry Xbox 360      2            2   \n...                                                  ...    ...          ...   \n63794          Gry i konsole;Gry na konsole;Gry Xbox 360      1            2   \n63795  Telefony i akcesoria;Akcesoria telefoniczne;Ze...      2            0   \n63796  Telefony i akcesoria;Akcesoria telefoniczne;Ze...      3            4   \n63797  Telefony i akcesoria;Akcesoria telefoniczne;Ze...      6            4   \n63798                         Sprzęt RTV;Audio;Słuchawki      5            5   \n\n       score  interaction_score  user_view  \n2        5.0                1.0          1  \n6        5.0                1.0          1  \n7        5.0                1.0          1  \n8        5.0                1.0          1  \n9        5.0                1.0          1  \n...      ...                ...        ...  \n63794    0.0                0.0          0  \n63795    5.0                1.0          1  \n63796    5.0                1.0          1  \n63797    5.0                1.0          1  \n63798    5.0                1.0          1  \n\n[51117 rows x 9 columns]",
      "text/html": "<div>\n<style scoped>\n    .dataframe tbody tr th:only-of-type {\n        vertical-align: middle;\n    }\n\n    .dataframe tbody tr th {\n        vertical-align: top;\n    }\n\n    .dataframe thead th {\n        text-align: right;\n    }\n</style>\n<table border=\"1\" class=\"dataframe\">\n  <thead>\n    <tr style=\"text-align: right;\">\n      <th></th>\n      <th>user_id</th>\n      <th>product_id</th>\n      <th>product_name</th>\n      <th>category_path</th>\n      <th>price</th>\n      <th>user_rating</th>\n      <th>score</th>\n      <th>interaction_score</th>\n      <th>user_view</th>\n    </tr>\n  </thead>\n  <tbody>\n    <tr>\n      <th>2</th>\n      <td>102</td>\n      <td>1003</td>\n      <td>Kyocera FS-3640MFP</td>\n      <td>Komputery;Drukarki i skanery;Biurowe urządzeni...</td>\n      <td>8</td>\n      <td>4</td>\n      <td>5.0</td>\n      <td>1.0</td>\n      <td>1</td>\n    </tr>\n    <tr>\n      <th>6</th>\n      <td>102</td>\n      <td>1007</td>\n      <td>Dead Space 3 (Xbox 360)</td>\n      <td>Gry i konsole;Gry na konsole;Gry Xbox 360</td>\n      <td>2</td>\n      <td>5</td>\n      <td>5.0</td>\n      <td>1.0</td>\n      <td>1</td>\n    </tr>\n    <tr>\n      <th>7</th>\n      <td>102</td>\n      <td>1008</td>\n      <td>Tom Clancy&amp;#39;s Rainbow Six Vegas (Xbox 360)</td>\n      <td>Gry i konsole;Gry na konsole;Gry Xbox 360</td>\n      <td>1</td>\n      <td>5</td>\n      <td>5.0</td>\n      <td>1.0</td>\n      <td>1</td>\n    </tr>\n    <tr>\n      <th>8</th>\n      <td>102</td>\n      <td>1009</td>\n      <td>Kinect Joy Ride (Xbox 360)</td>\n      <td>Gry i konsole;Gry na konsole;Gry Xbox 360</td>\n      <td>2</td>\n      <td>1</td>\n      <td>5.0</td>\n      <td>1.0</td>\n      <td>1</td>\n    </tr>\n    <tr>\n      <th>9</th>\n      <td>102</td>\n      <td>1010</td>\n      <td>BioShock 2 (Xbox 360)</td>\n      <td>Gry i konsole;Gry na konsole;Gry Xbox 360</td>\n      <td>2</td>\n      <td>2</td>\n      <td>5.0</td>\n      <td>1.0</td>\n      <td>1</td>\n    </tr>\n    <tr>\n      <th>...</th>\n      <td>...</td>\n      <td>...</td>\n      <td>...</td>\n      <td>...</td>\n      <td>...</td>\n      <td>...</td>\n      <td>...</td>\n      <td>...</td>\n      <td>...</td>\n    </tr>\n    <tr>\n      <th>63794</th>\n      <td>301</td>\n      <td>1314</td>\n      <td>Assassin&amp;#39;s Creed (Xbox 360)</td>\n      <td>Gry i konsole;Gry na konsole;Gry Xbox 360</td>\n      <td>1</td>\n      <td>2</td>\n      <td>0.0</td>\n      <td>0.0</td>\n      <td>0</td>\n    </tr>\n    <tr>\n      <th>63795</th>\n      <td>301</td>\n      <td>1315</td>\n      <td>Jabra Talk</td>\n      <td>Telefony i akcesoria;Akcesoria telefoniczne;Ze...</td>\n      <td>2</td>\n      <td>0</td>\n      <td>5.0</td>\n      <td>1.0</td>\n      <td>1</td>\n    </tr>\n    <tr>\n      <th>63796</th>\n      <td>301</td>\n      <td>1316</td>\n      <td>Plantronics Voyager Legend</td>\n      <td>Telefony i akcesoria;Akcesoria telefoniczne;Ze...</td>\n      <td>3</td>\n      <td>4</td>\n      <td>5.0</td>\n      <td>1.0</td>\n      <td>1</td>\n    </tr>\n    <tr>\n      <th>63797</th>\n      <td>301</td>\n      <td>1317</td>\n      <td>Plantronics Savi W740</td>\n      <td>Telefony i akcesoria;Akcesoria telefoniczne;Ze...</td>\n      <td>6</td>\n      <td>4</td>\n      <td>5.0</td>\n      <td>1.0</td>\n      <td>1</td>\n    </tr>\n    <tr>\n      <th>63798</th>\n      <td>301</td>\n      <td>1318</td>\n      <td>Plantronics Savi W710</td>\n      <td>Sprzęt RTV;Audio;Słuchawki</td>\n      <td>5</td>\n      <td>5</td>\n      <td>5.0</td>\n      <td>1.0</td>\n      <td>1</td>\n    </tr>\n  </tbody>\n</table>\n<p>51117 rows × 9 columns</p>\n</div>"
     },
     "execution_count": 13,
     "metadata": {},
     "output_type": "execute_result"
    }
   ],
   "source": [
    "mask = np.random.rand(len(group)) < 0.8\n",
    "trainset = group[mask]\n",
    "testset = group[~mask]\n",
    "trainset"
   ]
  },
  {
   "cell_type": "code",
   "execution_count": 14,
   "id": "8e47c791",
   "metadata": {},
   "outputs": [
    {
     "data": {
      "text/plain": "product_id  1001  1002  1003  1004  1005  1006  1007  1008  1009  1010  ...  \\\nuser_id                                                                 ...   \n102          0.0   0.0   5.0   0.0   0.0   0.0   5.0   5.0   5.0   5.0  ...   \n103          0.0   0.0   0.0   5.0   5.0   5.0   5.0   5.0   5.0   5.0  ...   \n104          0.0   5.0   5.0   5.0   5.0   5.0   5.0   5.0   0.0   0.0  ...   \n105          5.0   0.0   0.0   5.0   5.0   5.0   5.0   5.0   0.0   5.0  ...   \n106          0.0   5.0   5.0   5.0   5.0   5.0   5.0   5.0   5.0   5.0  ...   \n...          ...   ...   ...   ...   ...   ...   ...   ...   ...   ...  ...   \n297          5.0   5.0   5.0   5.0   5.0   5.0   0.0   0.0   5.0   5.0  ...   \n298          0.0   0.0   5.0   5.0   5.0   5.0   0.0   5.0   5.0   0.0  ...   \n299          0.0   0.0   0.0   0.0   0.0   0.0   0.0   0.0   0.0   0.0  ...   \n300          0.0   0.0   0.0   0.0   5.0   0.0   5.0   5.0   5.0   5.0  ...   \n301          5.0   5.0   5.0   0.0   5.0   5.0   5.0   5.0   5.0   0.0  ...   \n\nproduct_id  1310  1311  1312  1313  1314  1315  1316  1317  1318  1319  \nuser_id                                                                 \n102          0.0   0.0   0.0   0.0   5.0   5.0   5.0   5.0   0.0   0.0  \n103          0.0   0.0   0.0   5.0   5.0   5.0   5.0   0.0   5.0   5.0  \n104          0.0   5.0   5.0   0.0   5.0   0.0   0.0   5.0   0.0   0.0  \n105          0.0   5.0   0.0   0.0   5.0   5.0   5.0   5.0   0.0   0.0  \n106          5.0   5.0   0.0   5.0   0.0   0.0   5.0   5.0   0.0   0.0  \n...          ...   ...   ...   ...   ...   ...   ...   ...   ...   ...  \n297          0.0   5.0   0.0   0.0   0.0   5.0   5.0   5.0   0.0   5.0  \n298          0.0   0.0   0.0   0.0   5.0   5.0   0.0   5.0   0.0   0.0  \n299          0.0   0.0   0.0   0.0   0.0   0.0   0.0   0.0   0.0   0.0  \n300          0.0   5.0   0.0   0.0   0.0   0.0   0.0   0.0   0.0   0.0  \n301          0.0   5.0   0.0   5.0   0.0   5.0   5.0   5.0   5.0   0.0  \n\n[200 rows x 319 columns]",
      "text/html": "<div>\n<style scoped>\n    .dataframe tbody tr th:only-of-type {\n        vertical-align: middle;\n    }\n\n    .dataframe tbody tr th {\n        vertical-align: top;\n    }\n\n    .dataframe thead th {\n        text-align: right;\n    }\n</style>\n<table border=\"1\" class=\"dataframe\">\n  <thead>\n    <tr style=\"text-align: right;\">\n      <th>product_id</th>\n      <th>1001</th>\n      <th>1002</th>\n      <th>1003</th>\n      <th>1004</th>\n      <th>1005</th>\n      <th>1006</th>\n      <th>1007</th>\n      <th>1008</th>\n      <th>1009</th>\n      <th>1010</th>\n      <th>...</th>\n      <th>1310</th>\n      <th>1311</th>\n      <th>1312</th>\n      <th>1313</th>\n      <th>1314</th>\n      <th>1315</th>\n      <th>1316</th>\n      <th>1317</th>\n      <th>1318</th>\n      <th>1319</th>\n    </tr>\n    <tr>\n      <th>user_id</th>\n      <th></th>\n      <th></th>\n      <th></th>\n      <th></th>\n      <th></th>\n      <th></th>\n      <th></th>\n      <th></th>\n      <th></th>\n      <th></th>\n      <th></th>\n      <th></th>\n      <th></th>\n      <th></th>\n      <th></th>\n      <th></th>\n      <th></th>\n      <th></th>\n      <th></th>\n      <th></th>\n      <th></th>\n    </tr>\n  </thead>\n  <tbody>\n    <tr>\n      <th>102</th>\n      <td>0.0</td>\n      <td>0.0</td>\n      <td>5.0</td>\n      <td>0.0</td>\n      <td>0.0</td>\n      <td>0.0</td>\n      <td>5.0</td>\n      <td>5.0</td>\n      <td>5.0</td>\n      <td>5.0</td>\n      <td>...</td>\n      <td>0.0</td>\n      <td>0.0</td>\n      <td>0.0</td>\n      <td>0.0</td>\n      <td>5.0</td>\n      <td>5.0</td>\n      <td>5.0</td>\n      <td>5.0</td>\n      <td>0.0</td>\n      <td>0.0</td>\n    </tr>\n    <tr>\n      <th>103</th>\n      <td>0.0</td>\n      <td>0.0</td>\n      <td>0.0</td>\n      <td>5.0</td>\n      <td>5.0</td>\n      <td>5.0</td>\n      <td>5.0</td>\n      <td>5.0</td>\n      <td>5.0</td>\n      <td>5.0</td>\n      <td>...</td>\n      <td>0.0</td>\n      <td>0.0</td>\n      <td>0.0</td>\n      <td>5.0</td>\n      <td>5.0</td>\n      <td>5.0</td>\n      <td>5.0</td>\n      <td>0.0</td>\n      <td>5.0</td>\n      <td>5.0</td>\n    </tr>\n    <tr>\n      <th>104</th>\n      <td>0.0</td>\n      <td>5.0</td>\n      <td>5.0</td>\n      <td>5.0</td>\n      <td>5.0</td>\n      <td>5.0</td>\n      <td>5.0</td>\n      <td>5.0</td>\n      <td>0.0</td>\n      <td>0.0</td>\n      <td>...</td>\n      <td>0.0</td>\n      <td>5.0</td>\n      <td>5.0</td>\n      <td>0.0</td>\n      <td>5.0</td>\n      <td>0.0</td>\n      <td>0.0</td>\n      <td>5.0</td>\n      <td>0.0</td>\n      <td>0.0</td>\n    </tr>\n    <tr>\n      <th>105</th>\n      <td>5.0</td>\n      <td>0.0</td>\n      <td>0.0</td>\n      <td>5.0</td>\n      <td>5.0</td>\n      <td>5.0</td>\n      <td>5.0</td>\n      <td>5.0</td>\n      <td>0.0</td>\n      <td>5.0</td>\n      <td>...</td>\n      <td>0.0</td>\n      <td>5.0</td>\n      <td>0.0</td>\n      <td>0.0</td>\n      <td>5.0</td>\n      <td>5.0</td>\n      <td>5.0</td>\n      <td>5.0</td>\n      <td>0.0</td>\n      <td>0.0</td>\n    </tr>\n    <tr>\n      <th>106</th>\n      <td>0.0</td>\n      <td>5.0</td>\n      <td>5.0</td>\n      <td>5.0</td>\n      <td>5.0</td>\n      <td>5.0</td>\n      <td>5.0</td>\n      <td>5.0</td>\n      <td>5.0</td>\n      <td>5.0</td>\n      <td>...</td>\n      <td>5.0</td>\n      <td>5.0</td>\n      <td>0.0</td>\n      <td>5.0</td>\n      <td>0.0</td>\n      <td>0.0</td>\n      <td>5.0</td>\n      <td>5.0</td>\n      <td>0.0</td>\n      <td>0.0</td>\n    </tr>\n    <tr>\n      <th>...</th>\n      <td>...</td>\n      <td>...</td>\n      <td>...</td>\n      <td>...</td>\n      <td>...</td>\n      <td>...</td>\n      <td>...</td>\n      <td>...</td>\n      <td>...</td>\n      <td>...</td>\n      <td>...</td>\n      <td>...</td>\n      <td>...</td>\n      <td>...</td>\n      <td>...</td>\n      <td>...</td>\n      <td>...</td>\n      <td>...</td>\n      <td>...</td>\n      <td>...</td>\n      <td>...</td>\n    </tr>\n    <tr>\n      <th>297</th>\n      <td>5.0</td>\n      <td>5.0</td>\n      <td>5.0</td>\n      <td>5.0</td>\n      <td>5.0</td>\n      <td>5.0</td>\n      <td>0.0</td>\n      <td>0.0</td>\n      <td>5.0</td>\n      <td>5.0</td>\n      <td>...</td>\n      <td>0.0</td>\n      <td>5.0</td>\n      <td>0.0</td>\n      <td>0.0</td>\n      <td>0.0</td>\n      <td>5.0</td>\n      <td>5.0</td>\n      <td>5.0</td>\n      <td>0.0</td>\n      <td>5.0</td>\n    </tr>\n    <tr>\n      <th>298</th>\n      <td>0.0</td>\n      <td>0.0</td>\n      <td>5.0</td>\n      <td>5.0</td>\n      <td>5.0</td>\n      <td>5.0</td>\n      <td>0.0</td>\n      <td>5.0</td>\n      <td>5.0</td>\n      <td>0.0</td>\n      <td>...</td>\n      <td>0.0</td>\n      <td>0.0</td>\n      <td>0.0</td>\n      <td>0.0</td>\n      <td>5.0</td>\n      <td>5.0</td>\n      <td>0.0</td>\n      <td>5.0</td>\n      <td>0.0</td>\n      <td>0.0</td>\n    </tr>\n    <tr>\n      <th>299</th>\n      <td>0.0</td>\n      <td>0.0</td>\n      <td>0.0</td>\n      <td>0.0</td>\n      <td>0.0</td>\n      <td>0.0</td>\n      <td>0.0</td>\n      <td>0.0</td>\n      <td>0.0</td>\n      <td>0.0</td>\n      <td>...</td>\n      <td>0.0</td>\n      <td>0.0</td>\n      <td>0.0</td>\n      <td>0.0</td>\n      <td>0.0</td>\n      <td>0.0</td>\n      <td>0.0</td>\n      <td>0.0</td>\n      <td>0.0</td>\n      <td>0.0</td>\n    </tr>\n    <tr>\n      <th>300</th>\n      <td>0.0</td>\n      <td>0.0</td>\n      <td>0.0</td>\n      <td>0.0</td>\n      <td>5.0</td>\n      <td>0.0</td>\n      <td>5.0</td>\n      <td>5.0</td>\n      <td>5.0</td>\n      <td>5.0</td>\n      <td>...</td>\n      <td>0.0</td>\n      <td>5.0</td>\n      <td>0.0</td>\n      <td>0.0</td>\n      <td>0.0</td>\n      <td>0.0</td>\n      <td>0.0</td>\n      <td>0.0</td>\n      <td>0.0</td>\n      <td>0.0</td>\n    </tr>\n    <tr>\n      <th>301</th>\n      <td>5.0</td>\n      <td>5.0</td>\n      <td>5.0</td>\n      <td>0.0</td>\n      <td>5.0</td>\n      <td>5.0</td>\n      <td>5.0</td>\n      <td>5.0</td>\n      <td>5.0</td>\n      <td>0.0</td>\n      <td>...</td>\n      <td>0.0</td>\n      <td>5.0</td>\n      <td>0.0</td>\n      <td>5.0</td>\n      <td>0.0</td>\n      <td>5.0</td>\n      <td>5.0</td>\n      <td>5.0</td>\n      <td>5.0</td>\n      <td>0.0</td>\n    </tr>\n  </tbody>\n</table>\n<p>200 rows × 319 columns</p>\n</div>"
     },
     "execution_count": 14,
     "metadata": {},
     "output_type": "execute_result"
    }
   ],
   "source": [
    "train_matrix = pd.pivot_table(trainset, values='score', index='user_id', columns='product_id')\n",
    "train_matrix = train_matrix.fillna(0)\n",
    "train_matrix"
   ]
  },
  {
   "cell_type": "code",
   "execution_count": 15,
   "id": "d500ba5b",
   "metadata": {},
   "outputs": [
    {
     "data": {
      "text/plain": "     product_id                                      category_path  price  \\\n319        1001          Telefony i akcesoria;Telefony stacjonarne      2   \n639        1002  Komputery;Drukarki i skanery;Biurowe urządzeni...      7   \n2          1003  Komputery;Drukarki i skanery;Biurowe urządzeni...      8   \n322        1004          Gry i konsole;Gry na konsole;Gry Xbox 360      1   \n323        1005          Gry i konsole;Gry na konsole;Gry Xbox 360      1   \n..          ...                                                ...    ...   \n314        1315  Telefony i akcesoria;Akcesoria telefoniczne;Ze...      2   \n315        1316  Telefony i akcesoria;Akcesoria telefoniczne;Ze...      3   \n316        1317  Telefony i akcesoria;Akcesoria telefoniczne;Ze...      6   \n317        1318                         Sprzęt RTV;Audio;Słuchawki      5   \n318        1319  Telefony i akcesoria;Akcesoria telefoniczne;Ze...      0   \n\n     user_rating  \n319            5  \n639            1  \n2              4  \n322            3  \n323            0  \n..           ...  \n314            0  \n315            4  \n316            4  \n317            5  \n318            5  \n\n[319 rows x 4 columns]",
      "text/html": "<div>\n<style scoped>\n    .dataframe tbody tr th:only-of-type {\n        vertical-align: middle;\n    }\n\n    .dataframe tbody tr th {\n        vertical-align: top;\n    }\n\n    .dataframe thead th {\n        text-align: right;\n    }\n</style>\n<table border=\"1\" class=\"dataframe\">\n  <thead>\n    <tr style=\"text-align: right;\">\n      <th></th>\n      <th>product_id</th>\n      <th>category_path</th>\n      <th>price</th>\n      <th>user_rating</th>\n    </tr>\n  </thead>\n  <tbody>\n    <tr>\n      <th>319</th>\n      <td>1001</td>\n      <td>Telefony i akcesoria;Telefony stacjonarne</td>\n      <td>2</td>\n      <td>5</td>\n    </tr>\n    <tr>\n      <th>639</th>\n      <td>1002</td>\n      <td>Komputery;Drukarki i skanery;Biurowe urządzeni...</td>\n      <td>7</td>\n      <td>1</td>\n    </tr>\n    <tr>\n      <th>2</th>\n      <td>1003</td>\n      <td>Komputery;Drukarki i skanery;Biurowe urządzeni...</td>\n      <td>8</td>\n      <td>4</td>\n    </tr>\n    <tr>\n      <th>322</th>\n      <td>1004</td>\n      <td>Gry i konsole;Gry na konsole;Gry Xbox 360</td>\n      <td>1</td>\n      <td>3</td>\n    </tr>\n    <tr>\n      <th>323</th>\n      <td>1005</td>\n      <td>Gry i konsole;Gry na konsole;Gry Xbox 360</td>\n      <td>1</td>\n      <td>0</td>\n    </tr>\n    <tr>\n      <th>...</th>\n      <td>...</td>\n      <td>...</td>\n      <td>...</td>\n      <td>...</td>\n    </tr>\n    <tr>\n      <th>314</th>\n      <td>1315</td>\n      <td>Telefony i akcesoria;Akcesoria telefoniczne;Ze...</td>\n      <td>2</td>\n      <td>0</td>\n    </tr>\n    <tr>\n      <th>315</th>\n      <td>1316</td>\n      <td>Telefony i akcesoria;Akcesoria telefoniczne;Ze...</td>\n      <td>3</td>\n      <td>4</td>\n    </tr>\n    <tr>\n      <th>316</th>\n      <td>1317</td>\n      <td>Telefony i akcesoria;Akcesoria telefoniczne;Ze...</td>\n      <td>6</td>\n      <td>4</td>\n    </tr>\n    <tr>\n      <th>317</th>\n      <td>1318</td>\n      <td>Sprzęt RTV;Audio;Słuchawki</td>\n      <td>5</td>\n      <td>5</td>\n    </tr>\n    <tr>\n      <th>318</th>\n      <td>1319</td>\n      <td>Telefony i akcesoria;Akcesoria telefoniczne;Ze...</td>\n      <td>0</td>\n      <td>5</td>\n    </tr>\n  </tbody>\n</table>\n<p>319 rows × 4 columns</p>\n</div>"
     },
     "execution_count": 15,
     "metadata": {},
     "output_type": "execute_result"
    }
   ],
   "source": [
    "product_cat = trainset[['product_id', 'category_path', 'price', 'user_rating']].drop_duplicates('product_id')\n",
    "product_cat = product_cat.sort_values(by='product_id')\n",
    "product_cat"
   ]
  },
  {
   "cell_type": "code",
   "execution_count": 16,
   "id": "b1c6dbc2",
   "metadata": {},
   "outputs": [
    {
     "name": "stderr",
     "output_type": "stream",
     "text": [
      "C:\\Users\\patry\\PycharmProjects\\SSNE_labs\\venv\\lib\\site-packages\\sklearn\\utils\\deprecation.py:87: FutureWarning: Function get_feature_names is deprecated; get_feature_names is deprecated in 1.0 and will be removed in 1.2. Please use get_feature_names_out instead.\n",
      "  warnings.warn(msg, category=FutureWarning)\n"
     ]
    },
    {
     "data": {
      "text/plain": "         1001      1002      1003      1004      1005      1006      1007  \\\n102  0.442528  0.404883  0.647633  0.836574  0.713570  0.785704  0.952613   \n103  0.659426  0.384914  0.443936  0.856530  0.814848  0.862864  0.945294   \n104  0.359136  1.000000  0.994433  0.734704  0.594540  0.659644  0.801163   \n105  0.967610  0.282837  0.372036  0.617409  0.550520  0.624163  0.639182   \n106  0.617791  0.681215  0.569498  0.875279  0.667663  0.840489  0.865541   \n..        ...       ...       ...       ...       ...       ...       ...   \n297  0.829796  0.793067  0.690111  0.778085  0.637282  0.782131  0.807464   \n298  0.391397  0.562303  0.934621  0.835435  0.747890  0.832525  0.804474   \n299  0.066127  0.073762  0.033777  0.114601  0.122383  0.117930  0.093079   \n300  0.003476  0.017808  0.005595  0.126885  0.157672  0.130460  0.170243   \n301  0.917521  0.844599  0.650676  0.658129  0.564257  0.643072  0.715939   \n\n         1008      1009      1010  ...      1310      1311      1312  \\\n102  0.922382  0.837164  0.785704  ...  0.697561  0.789192  0.689776   \n103  0.870682  0.819957  0.862864  ...  0.751676  0.622028  0.799004   \n104  0.770151  0.606104  0.659644  ...  0.627882  0.597763  0.649849   \n105  0.614499  0.586820  0.624163  ...  0.524166  0.712264  0.574446   \n106  0.819826  0.783191  0.840489  ...  0.924134  0.880691  0.893750   \n..        ...       ...       ...  ...       ...       ...       ...   \n297  0.777582  0.734689  0.782131  ...  0.544574  0.627195  0.599721   \n298  0.779880  0.809443  0.832525  ...  0.754252  0.694579  0.710903   \n299  0.103083  0.127174  0.117930  ...  0.083697  0.069488  0.104825   \n300  0.143883  0.128887  0.130460  ...  0.033562  0.130215  0.017921   \n301  0.672057  0.633825  0.643072  ...  0.643844  0.766155  0.680464   \n\n         1313      1314      1315      1316      1317      1318      1319  \n102  0.589751  0.861066  0.812993  0.805039  0.835672  0.312814  0.438830  \n103  0.866966  0.883194  0.878321  0.917830  0.619027  1.000000  0.950357  \n104  0.505587  0.686990  0.337902  0.445121  0.686211  0.307124  0.337143  \n105  0.619507  0.628182  0.916085  0.975371  0.970742  0.338904  0.545490  \n106  1.000000  0.868489  0.588766  0.915614  0.888026  0.609395  0.563649  \n..        ...       ...       ...       ...       ...       ...       ...  \n297  0.429546  0.719144  0.863168  0.690323  0.777794  0.253591  0.850230  \n298  0.528325  0.873651  0.699753  0.534607  0.782679  0.308147  0.346154  \n299  0.093926  0.125745  0.058159  0.076652  0.090890  0.059841  0.073277  \n300  0.022790  0.118483  0.014838  0.009749  0.004100  0.011277  0.003722  \n301  0.706779  0.642310  0.943119  0.933119  0.899556  0.885893  0.548249  \n\n[200 rows x 319 columns]",
      "text/html": "<div>\n<style scoped>\n    .dataframe tbody tr th:only-of-type {\n        vertical-align: middle;\n    }\n\n    .dataframe tbody tr th {\n        vertical-align: top;\n    }\n\n    .dataframe thead th {\n        text-align: right;\n    }\n</style>\n<table border=\"1\" class=\"dataframe\">\n  <thead>\n    <tr style=\"text-align: right;\">\n      <th></th>\n      <th>1001</th>\n      <th>1002</th>\n      <th>1003</th>\n      <th>1004</th>\n      <th>1005</th>\n      <th>1006</th>\n      <th>1007</th>\n      <th>1008</th>\n      <th>1009</th>\n      <th>1010</th>\n      <th>...</th>\n      <th>1310</th>\n      <th>1311</th>\n      <th>1312</th>\n      <th>1313</th>\n      <th>1314</th>\n      <th>1315</th>\n      <th>1316</th>\n      <th>1317</th>\n      <th>1318</th>\n      <th>1319</th>\n    </tr>\n  </thead>\n  <tbody>\n    <tr>\n      <th>102</th>\n      <td>0.442528</td>\n      <td>0.404883</td>\n      <td>0.647633</td>\n      <td>0.836574</td>\n      <td>0.713570</td>\n      <td>0.785704</td>\n      <td>0.952613</td>\n      <td>0.922382</td>\n      <td>0.837164</td>\n      <td>0.785704</td>\n      <td>...</td>\n      <td>0.697561</td>\n      <td>0.789192</td>\n      <td>0.689776</td>\n      <td>0.589751</td>\n      <td>0.861066</td>\n      <td>0.812993</td>\n      <td>0.805039</td>\n      <td>0.835672</td>\n      <td>0.312814</td>\n      <td>0.438830</td>\n    </tr>\n    <tr>\n      <th>103</th>\n      <td>0.659426</td>\n      <td>0.384914</td>\n      <td>0.443936</td>\n      <td>0.856530</td>\n      <td>0.814848</td>\n      <td>0.862864</td>\n      <td>0.945294</td>\n      <td>0.870682</td>\n      <td>0.819957</td>\n      <td>0.862864</td>\n      <td>...</td>\n      <td>0.751676</td>\n      <td>0.622028</td>\n      <td>0.799004</td>\n      <td>0.866966</td>\n      <td>0.883194</td>\n      <td>0.878321</td>\n      <td>0.917830</td>\n      <td>0.619027</td>\n      <td>1.000000</td>\n      <td>0.950357</td>\n    </tr>\n    <tr>\n      <th>104</th>\n      <td>0.359136</td>\n      <td>1.000000</td>\n      <td>0.994433</td>\n      <td>0.734704</td>\n      <td>0.594540</td>\n      <td>0.659644</td>\n      <td>0.801163</td>\n      <td>0.770151</td>\n      <td>0.606104</td>\n      <td>0.659644</td>\n      <td>...</td>\n      <td>0.627882</td>\n      <td>0.597763</td>\n      <td>0.649849</td>\n      <td>0.505587</td>\n      <td>0.686990</td>\n      <td>0.337902</td>\n      <td>0.445121</td>\n      <td>0.686211</td>\n      <td>0.307124</td>\n      <td>0.337143</td>\n    </tr>\n    <tr>\n      <th>105</th>\n      <td>0.967610</td>\n      <td>0.282837</td>\n      <td>0.372036</td>\n      <td>0.617409</td>\n      <td>0.550520</td>\n      <td>0.624163</td>\n      <td>0.639182</td>\n      <td>0.614499</td>\n      <td>0.586820</td>\n      <td>0.624163</td>\n      <td>...</td>\n      <td>0.524166</td>\n      <td>0.712264</td>\n      <td>0.574446</td>\n      <td>0.619507</td>\n      <td>0.628182</td>\n      <td>0.916085</td>\n      <td>0.975371</td>\n      <td>0.970742</td>\n      <td>0.338904</td>\n      <td>0.545490</td>\n    </tr>\n    <tr>\n      <th>106</th>\n      <td>0.617791</td>\n      <td>0.681215</td>\n      <td>0.569498</td>\n      <td>0.875279</td>\n      <td>0.667663</td>\n      <td>0.840489</td>\n      <td>0.865541</td>\n      <td>0.819826</td>\n      <td>0.783191</td>\n      <td>0.840489</td>\n      <td>...</td>\n      <td>0.924134</td>\n      <td>0.880691</td>\n      <td>0.893750</td>\n      <td>1.000000</td>\n      <td>0.868489</td>\n      <td>0.588766</td>\n      <td>0.915614</td>\n      <td>0.888026</td>\n      <td>0.609395</td>\n      <td>0.563649</td>\n    </tr>\n    <tr>\n      <th>...</th>\n      <td>...</td>\n      <td>...</td>\n      <td>...</td>\n      <td>...</td>\n      <td>...</td>\n      <td>...</td>\n      <td>...</td>\n      <td>...</td>\n      <td>...</td>\n      <td>...</td>\n      <td>...</td>\n      <td>...</td>\n      <td>...</td>\n      <td>...</td>\n      <td>...</td>\n      <td>...</td>\n      <td>...</td>\n      <td>...</td>\n      <td>...</td>\n      <td>...</td>\n      <td>...</td>\n    </tr>\n    <tr>\n      <th>297</th>\n      <td>0.829796</td>\n      <td>0.793067</td>\n      <td>0.690111</td>\n      <td>0.778085</td>\n      <td>0.637282</td>\n      <td>0.782131</td>\n      <td>0.807464</td>\n      <td>0.777582</td>\n      <td>0.734689</td>\n      <td>0.782131</td>\n      <td>...</td>\n      <td>0.544574</td>\n      <td>0.627195</td>\n      <td>0.599721</td>\n      <td>0.429546</td>\n      <td>0.719144</td>\n      <td>0.863168</td>\n      <td>0.690323</td>\n      <td>0.777794</td>\n      <td>0.253591</td>\n      <td>0.850230</td>\n    </tr>\n    <tr>\n      <th>298</th>\n      <td>0.391397</td>\n      <td>0.562303</td>\n      <td>0.934621</td>\n      <td>0.835435</td>\n      <td>0.747890</td>\n      <td>0.832525</td>\n      <td>0.804474</td>\n      <td>0.779880</td>\n      <td>0.809443</td>\n      <td>0.832525</td>\n      <td>...</td>\n      <td>0.754252</td>\n      <td>0.694579</td>\n      <td>0.710903</td>\n      <td>0.528325</td>\n      <td>0.873651</td>\n      <td>0.699753</td>\n      <td>0.534607</td>\n      <td>0.782679</td>\n      <td>0.308147</td>\n      <td>0.346154</td>\n    </tr>\n    <tr>\n      <th>299</th>\n      <td>0.066127</td>\n      <td>0.073762</td>\n      <td>0.033777</td>\n      <td>0.114601</td>\n      <td>0.122383</td>\n      <td>0.117930</td>\n      <td>0.093079</td>\n      <td>0.103083</td>\n      <td>0.127174</td>\n      <td>0.117930</td>\n      <td>...</td>\n      <td>0.083697</td>\n      <td>0.069488</td>\n      <td>0.104825</td>\n      <td>0.093926</td>\n      <td>0.125745</td>\n      <td>0.058159</td>\n      <td>0.076652</td>\n      <td>0.090890</td>\n      <td>0.059841</td>\n      <td>0.073277</td>\n    </tr>\n    <tr>\n      <th>300</th>\n      <td>0.003476</td>\n      <td>0.017808</td>\n      <td>0.005595</td>\n      <td>0.126885</td>\n      <td>0.157672</td>\n      <td>0.130460</td>\n      <td>0.170243</td>\n      <td>0.143883</td>\n      <td>0.128887</td>\n      <td>0.130460</td>\n      <td>...</td>\n      <td>0.033562</td>\n      <td>0.130215</td>\n      <td>0.017921</td>\n      <td>0.022790</td>\n      <td>0.118483</td>\n      <td>0.014838</td>\n      <td>0.009749</td>\n      <td>0.004100</td>\n      <td>0.011277</td>\n      <td>0.003722</td>\n    </tr>\n    <tr>\n      <th>301</th>\n      <td>0.917521</td>\n      <td>0.844599</td>\n      <td>0.650676</td>\n      <td>0.658129</td>\n      <td>0.564257</td>\n      <td>0.643072</td>\n      <td>0.715939</td>\n      <td>0.672057</td>\n      <td>0.633825</td>\n      <td>0.643072</td>\n      <td>...</td>\n      <td>0.643844</td>\n      <td>0.766155</td>\n      <td>0.680464</td>\n      <td>0.706779</td>\n      <td>0.642310</td>\n      <td>0.943119</td>\n      <td>0.933119</td>\n      <td>0.899556</td>\n      <td>0.885893</td>\n      <td>0.548249</td>\n    </tr>\n  </tbody>\n</table>\n<p>200 rows × 319 columns</p>\n</div>"
     },
     "execution_count": 16,
     "metadata": {},
     "output_type": "execute_result"
    }
   ],
   "source": [
    "price_matrix = np.reciprocal(euclidean_distances(np.array(product_cat['price']).reshape(-1,1))+1)\n",
    "euclidean_matrix1 = pd.DataFrame(price_matrix,columns=product_cat['product_id'],index=product_cat['product_id'])\n",
    "\n",
    "rating_matrix = np.reciprocal(euclidean_distances(np.array(product_cat['user_rating']).reshape(-1,1))+1)\n",
    "euclidean_matrix2 = pd.DataFrame(rating_matrix,columns=product_cat['product_id'],index=product_cat['product_id'])\n",
    "\n",
    "tfidf_vectorizer = TfidfVectorizer()\n",
    "doc_term = tfidf_vectorizer.fit_transform(list(product_cat['category_path']))\n",
    "dt_matrix = pd.DataFrame(doc_term.toarray().round(3), index=[i for i in product_cat['product_id']], columns=tfidf_vectorizer.get_feature_names())\n",
    "cos_similar_matrix = pd.DataFrame(cosine_similarity(dt_matrix.values),columns=product_cat['product_id'],index=product_cat['product_id'])\n",
    "\n",
    "similarity_matrix = euclidean_matrix1.multiply(euclidean_matrix2).multiply(cos_similar_matrix)\n",
    "content_matrix = train_matrix.dot(similarity_matrix)\n",
    "std = MinMaxScaler(feature_range=(0, 1))\n",
    "std.fit(content_matrix.values)\n",
    "content_matrix = std.transform(content_matrix.values)\n",
    "content_matrix = pd.DataFrame(content_matrix,columns=sorted(trainset['product_id'].unique()),index=sorted(trainset['user_id'].unique()))\n",
    "content_matrix"
   ]
  },
  {
   "cell_type": "code",
   "execution_count": 17,
   "id": "2fd031b6",
   "metadata": {},
   "outputs": [
    {
     "data": {
      "text/plain": "       user_id  product_id  predicted_interaction\n0          102        1001               0.442528\n1          102        1002               0.404883\n2          102        1003               0.647633\n3          102        1004               0.836574\n4          102        1005               0.713570\n...        ...         ...                    ...\n63795      301        1315               0.943119\n63796      301        1316               0.933119\n63797      301        1317               0.899556\n63798      301        1318               0.885893\n63799      301        1319               0.548249\n\n[63800 rows x 3 columns]",
      "text/html": "<div>\n<style scoped>\n    .dataframe tbody tr th:only-of-type {\n        vertical-align: middle;\n    }\n\n    .dataframe tbody tr th {\n        vertical-align: top;\n    }\n\n    .dataframe thead th {\n        text-align: right;\n    }\n</style>\n<table border=\"1\" class=\"dataframe\">\n  <thead>\n    <tr style=\"text-align: right;\">\n      <th></th>\n      <th>user_id</th>\n      <th>product_id</th>\n      <th>predicted_interaction</th>\n    </tr>\n  </thead>\n  <tbody>\n    <tr>\n      <th>0</th>\n      <td>102</td>\n      <td>1001</td>\n      <td>0.442528</td>\n    </tr>\n    <tr>\n      <th>1</th>\n      <td>102</td>\n      <td>1002</td>\n      <td>0.404883</td>\n    </tr>\n    <tr>\n      <th>2</th>\n      <td>102</td>\n      <td>1003</td>\n      <td>0.647633</td>\n    </tr>\n    <tr>\n      <th>3</th>\n      <td>102</td>\n      <td>1004</td>\n      <td>0.836574</td>\n    </tr>\n    <tr>\n      <th>4</th>\n      <td>102</td>\n      <td>1005</td>\n      <td>0.713570</td>\n    </tr>\n    <tr>\n      <th>...</th>\n      <td>...</td>\n      <td>...</td>\n      <td>...</td>\n    </tr>\n    <tr>\n      <th>63795</th>\n      <td>301</td>\n      <td>1315</td>\n      <td>0.943119</td>\n    </tr>\n    <tr>\n      <th>63796</th>\n      <td>301</td>\n      <td>1316</td>\n      <td>0.933119</td>\n    </tr>\n    <tr>\n      <th>63797</th>\n      <td>301</td>\n      <td>1317</td>\n      <td>0.899556</td>\n    </tr>\n    <tr>\n      <th>63798</th>\n      <td>301</td>\n      <td>1318</td>\n      <td>0.885893</td>\n    </tr>\n    <tr>\n      <th>63799</th>\n      <td>301</td>\n      <td>1319</td>\n      <td>0.548249</td>\n    </tr>\n  </tbody>\n</table>\n<p>63800 rows × 3 columns</p>\n</div>"
     },
     "execution_count": 17,
     "metadata": {},
     "output_type": "execute_result"
    }
   ],
   "source": [
    "content_df = content_matrix.stack().reset_index()\n",
    "content_df = content_df.rename(columns={'level_0':'user_id','level_1':'product_id',0:'predicted_interaction'})\n",
    "content_df"
   ]
  },
  {
   "cell_type": "code",
   "execution_count": 18,
   "id": "adc38c29",
   "metadata": {},
   "outputs": [
    {
     "data": {
      "text/plain": "       user_id  product_id                                    product_name  \\\n0          102        1001                   Telefon Siemens Gigaset DA310   \n1          102        1002                              Kyocera FS-1135MFP   \n2          102        1004                            Fallout 3 (Xbox 360)   \n3          102        1005  Szalone Króliki Na żywo i w kolorze (Xbox 360)   \n4          102        1006        Call of Duty 4 Modern Warfare (Xbox 360)   \n...        ...         ...                                             ...   \n12678      301        1278                        Intenso Music Walker 8GB   \n12679      301        1296                                  Sencor SDA-630   \n12680      301        1297                                  Telmor DSP-860   \n12681      301        1306                             One For All SV 9215   \n12682      301        1319                                     HTC HS-S200   \n\n                                           category_path  price  user_rating  \\\n0              Telefony i akcesoria;Telefony stacjonarne      2            5   \n1      Komputery;Drukarki i skanery;Biurowe urządzeni...      7            1   \n2              Gry i konsole;Gry na konsole;Gry Xbox 360      1            3   \n3              Gry i konsole;Gry na konsole;Gry Xbox 360      1            0   \n4              Gry i konsole;Gry na konsole;Gry Xbox 360      2            2   \n...                                                  ...    ...          ...   \n12678  Sprzęt RTV;Przenośne audio i video;Odtwarzacze...      2            2   \n12679  Sprzęt RTV;Video;Telewizory i akcesoria;Anteny...      2            5   \n12680  Sprzęt RTV;Video;Telewizory i akcesoria;Anteny...      3            3   \n12681  Sprzęt RTV;Video;Telewizory i akcesoria;Anteny...      2            5   \n12682  Telefony i akcesoria;Akcesoria telefoniczne;Ze...      0            5   \n\n       score  interaction_score  user_view  predicted_interaction  \\\n0        0.0                0.0          0               0.442528   \n1        5.0                1.0          1               0.404883   \n2        5.0                1.0          1               0.836574   \n3        5.0                1.0          1               0.713570   \n4        5.0                1.0          1               0.785704   \n...      ...                ...        ...                    ...   \n12678    5.0                1.0          1               0.488395   \n12679    0.0                0.0          0               0.648637   \n12680    5.0                1.0          1               0.710251   \n12681    0.0                0.0          0               0.648637   \n12682    0.0                0.0          0               0.548249   \n\n       predicted_view  \n0                   0  \n1                   0  \n2                   1  \n3                   1  \n4                   1  \n...               ...  \n12678               0  \n12679               1  \n12680               1  \n12681               1  \n12682               1  \n\n[12683 rows x 11 columns]",
      "text/html": "<div>\n<style scoped>\n    .dataframe tbody tr th:only-of-type {\n        vertical-align: middle;\n    }\n\n    .dataframe tbody tr th {\n        vertical-align: top;\n    }\n\n    .dataframe thead th {\n        text-align: right;\n    }\n</style>\n<table border=\"1\" class=\"dataframe\">\n  <thead>\n    <tr style=\"text-align: right;\">\n      <th></th>\n      <th>user_id</th>\n      <th>product_id</th>\n      <th>product_name</th>\n      <th>category_path</th>\n      <th>price</th>\n      <th>user_rating</th>\n      <th>score</th>\n      <th>interaction_score</th>\n      <th>user_view</th>\n      <th>predicted_interaction</th>\n      <th>predicted_view</th>\n    </tr>\n  </thead>\n  <tbody>\n    <tr>\n      <th>0</th>\n      <td>102</td>\n      <td>1001</td>\n      <td>Telefon Siemens Gigaset DA310</td>\n      <td>Telefony i akcesoria;Telefony stacjonarne</td>\n      <td>2</td>\n      <td>5</td>\n      <td>0.0</td>\n      <td>0.0</td>\n      <td>0</td>\n      <td>0.442528</td>\n      <td>0</td>\n    </tr>\n    <tr>\n      <th>1</th>\n      <td>102</td>\n      <td>1002</td>\n      <td>Kyocera FS-1135MFP</td>\n      <td>Komputery;Drukarki i skanery;Biurowe urządzeni...</td>\n      <td>7</td>\n      <td>1</td>\n      <td>5.0</td>\n      <td>1.0</td>\n      <td>1</td>\n      <td>0.404883</td>\n      <td>0</td>\n    </tr>\n    <tr>\n      <th>2</th>\n      <td>102</td>\n      <td>1004</td>\n      <td>Fallout 3 (Xbox 360)</td>\n      <td>Gry i konsole;Gry na konsole;Gry Xbox 360</td>\n      <td>1</td>\n      <td>3</td>\n      <td>5.0</td>\n      <td>1.0</td>\n      <td>1</td>\n      <td>0.836574</td>\n      <td>1</td>\n    </tr>\n    <tr>\n      <th>3</th>\n      <td>102</td>\n      <td>1005</td>\n      <td>Szalone Króliki Na żywo i w kolorze (Xbox 360)</td>\n      <td>Gry i konsole;Gry na konsole;Gry Xbox 360</td>\n      <td>1</td>\n      <td>0</td>\n      <td>5.0</td>\n      <td>1.0</td>\n      <td>1</td>\n      <td>0.713570</td>\n      <td>1</td>\n    </tr>\n    <tr>\n      <th>4</th>\n      <td>102</td>\n      <td>1006</td>\n      <td>Call of Duty 4 Modern Warfare (Xbox 360)</td>\n      <td>Gry i konsole;Gry na konsole;Gry Xbox 360</td>\n      <td>2</td>\n      <td>2</td>\n      <td>5.0</td>\n      <td>1.0</td>\n      <td>1</td>\n      <td>0.785704</td>\n      <td>1</td>\n    </tr>\n    <tr>\n      <th>...</th>\n      <td>...</td>\n      <td>...</td>\n      <td>...</td>\n      <td>...</td>\n      <td>...</td>\n      <td>...</td>\n      <td>...</td>\n      <td>...</td>\n      <td>...</td>\n      <td>...</td>\n      <td>...</td>\n    </tr>\n    <tr>\n      <th>12678</th>\n      <td>301</td>\n      <td>1278</td>\n      <td>Intenso Music Walker 8GB</td>\n      <td>Sprzęt RTV;Przenośne audio i video;Odtwarzacze...</td>\n      <td>2</td>\n      <td>2</td>\n      <td>5.0</td>\n      <td>1.0</td>\n      <td>1</td>\n      <td>0.488395</td>\n      <td>0</td>\n    </tr>\n    <tr>\n      <th>12679</th>\n      <td>301</td>\n      <td>1296</td>\n      <td>Sencor SDA-630</td>\n      <td>Sprzęt RTV;Video;Telewizory i akcesoria;Anteny...</td>\n      <td>2</td>\n      <td>5</td>\n      <td>0.0</td>\n      <td>0.0</td>\n      <td>0</td>\n      <td>0.648637</td>\n      <td>1</td>\n    </tr>\n    <tr>\n      <th>12680</th>\n      <td>301</td>\n      <td>1297</td>\n      <td>Telmor DSP-860</td>\n      <td>Sprzęt RTV;Video;Telewizory i akcesoria;Anteny...</td>\n      <td>3</td>\n      <td>3</td>\n      <td>5.0</td>\n      <td>1.0</td>\n      <td>1</td>\n      <td>0.710251</td>\n      <td>1</td>\n    </tr>\n    <tr>\n      <th>12681</th>\n      <td>301</td>\n      <td>1306</td>\n      <td>One For All SV 9215</td>\n      <td>Sprzęt RTV;Video;Telewizory i akcesoria;Anteny...</td>\n      <td>2</td>\n      <td>5</td>\n      <td>0.0</td>\n      <td>0.0</td>\n      <td>0</td>\n      <td>0.648637</td>\n      <td>1</td>\n    </tr>\n    <tr>\n      <th>12682</th>\n      <td>301</td>\n      <td>1319</td>\n      <td>HTC HS-S200</td>\n      <td>Telefony i akcesoria;Akcesoria telefoniczne;Ze...</td>\n      <td>0</td>\n      <td>5</td>\n      <td>0.0</td>\n      <td>0.0</td>\n      <td>0</td>\n      <td>0.548249</td>\n      <td>1</td>\n    </tr>\n  </tbody>\n</table>\n<p>12683 rows × 11 columns</p>\n</div>"
     },
     "execution_count": 18,
     "metadata": {},
     "output_type": "execute_result"
    }
   ],
   "source": [
    "testset = testset.merge(content_df,on=['user_id','product_id'])\n",
    "testset['predicted_view'] = testset['predicted_interaction'].apply(lambda x:1 if x>=0.5 else 0)\n",
    "testset"
   ]
  },
  {
   "cell_type": "code",
   "execution_count": 19,
   "id": "0366a289",
   "metadata": {},
   "outputs": [
    {
     "name": "stdout",
     "output_type": "stream",
     "text": [
      "Accuracy: 61.32618465662698%\n"
     ]
    }
   ],
   "source": [
    "correct = 0\n",
    "for index, record in testset.iterrows():\n",
    "    if record['user_view'] == record['predicted_view']:\n",
    "        correct = correct + 1\n",
    "correct = correct / len(testset)\n",
    "print(f\"Accuracy: {correct*100}%\")"
   ]
  },
  {
   "cell_type": "code",
   "execution_count": null,
   "id": "82916da5",
   "metadata": {},
   "outputs": [],
   "source": []
  }
 ],
 "metadata": {
  "kernelspec": {
   "display_name": "Python 3 (ipykernel)",
   "language": "python",
   "name": "python3"
  },
  "language_info": {
   "codemirror_mode": {
    "name": "ipython",
    "version": 3
   },
   "file_extension": ".py",
   "mimetype": "text/x-python",
   "name": "python",
   "nbconvert_exporter": "python",
   "pygments_lexer": "ipython3",
   "version": "3.9.7"
  }
 },
 "nbformat": 4,
 "nbformat_minor": 5
}