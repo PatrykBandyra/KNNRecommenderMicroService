{
 "cells": [
  {
   "cell_type": "code",
   "execution_count": 1,
   "id": "bf94fb43",
   "metadata": {},
   "outputs": [],
   "source": [
    "import numpy as np\n",
    "import pandas as pd\n",
    "from scipy import spatial\n",
    "import operator\n",
    "from sklearn.metrics.pairwise import euclidean_distances\n",
    "from sklearn.metrics.pairwise import cosine_similarity\n",
    "from sklearn.feature_extraction.text import TfidfVectorizer\n",
    "from sklearn.preprocessing import MinMaxScaler"
   ]
  },
  {
   "cell_type": "code",
   "execution_count": 2,
   "id": "0ba1236d",
   "metadata": {},
   "outputs": [],
   "source": [
    "users = pd.read_json(\"../data/raw/users.jsonl\", lines=True)\n",
    "sessions = pd.read_json(\"../data/raw/sessions.jsonl\", lines=True)\n",
    "products = pd.read_json(\"../data/raw/products.jsonl\", lines=True)"
   ]
  },
  {
   "cell_type": "markdown",
   "id": "63b5ae42",
   "metadata": {},
   "source": [
    "# Model A"
   ]
  },
  {
   "cell_type": "code",
   "execution_count": 3,
   "id": "b07eab69",
   "metadata": {},
   "outputs": [],
   "source": [
    "sessionsA = sessions.copy()"
   ]
  },
  {
   "cell_type": "code",
   "execution_count": 4,
   "id": "3847e78a",
   "metadata": {},
   "outputs": [
    {
     "data": {
      "text/plain": "       user_id  product_id  score  user_view\n0          102        1001    0.0          0\n1          102        1002    3.0          1\n2          102        1003    2.0          1\n3          102        1004    2.0          1\n4          102        1005    5.0          1\n...        ...         ...    ...        ...\n63795      301        1315    1.0          1\n63796      301        1316    1.0          1\n63797      301        1317    4.0          1\n63798      301        1318    4.0          1\n63799      301        1319    0.0          0\n\n[63800 rows x 4 columns]",
      "text/html": "<div>\n<style scoped>\n    .dataframe tbody tr th:only-of-type {\n        vertical-align: middle;\n    }\n\n    .dataframe tbody tr th {\n        vertical-align: top;\n    }\n\n    .dataframe thead th {\n        text-align: right;\n    }\n</style>\n<table border=\"1\" class=\"dataframe\">\n  <thead>\n    <tr style=\"text-align: right;\">\n      <th></th>\n      <th>user_id</th>\n      <th>product_id</th>\n      <th>score</th>\n      <th>user_view</th>\n    </tr>\n  </thead>\n  <tbody>\n    <tr>\n      <th>0</th>\n      <td>102</td>\n      <td>1001</td>\n      <td>0.0</td>\n      <td>0</td>\n    </tr>\n    <tr>\n      <th>1</th>\n      <td>102</td>\n      <td>1002</td>\n      <td>3.0</td>\n      <td>1</td>\n    </tr>\n    <tr>\n      <th>2</th>\n      <td>102</td>\n      <td>1003</td>\n      <td>2.0</td>\n      <td>1</td>\n    </tr>\n    <tr>\n      <th>3</th>\n      <td>102</td>\n      <td>1004</td>\n      <td>2.0</td>\n      <td>1</td>\n    </tr>\n    <tr>\n      <th>4</th>\n      <td>102</td>\n      <td>1005</td>\n      <td>5.0</td>\n      <td>1</td>\n    </tr>\n    <tr>\n      <th>...</th>\n      <td>...</td>\n      <td>...</td>\n      <td>...</td>\n      <td>...</td>\n    </tr>\n    <tr>\n      <th>63795</th>\n      <td>301</td>\n      <td>1315</td>\n      <td>1.0</td>\n      <td>1</td>\n    </tr>\n    <tr>\n      <th>63796</th>\n      <td>301</td>\n      <td>1316</td>\n      <td>1.0</td>\n      <td>1</td>\n    </tr>\n    <tr>\n      <th>63797</th>\n      <td>301</td>\n      <td>1317</td>\n      <td>4.0</td>\n      <td>1</td>\n    </tr>\n    <tr>\n      <th>63798</th>\n      <td>301</td>\n      <td>1318</td>\n      <td>4.0</td>\n      <td>1</td>\n    </tr>\n    <tr>\n      <th>63799</th>\n      <td>301</td>\n      <td>1319</td>\n      <td>0.0</td>\n      <td>0</td>\n    </tr>\n  </tbody>\n</table>\n<p>63800 rows × 4 columns</p>\n</div>"
     },
     "execution_count": 4,
     "metadata": {},
     "output_type": "execute_result"
    }
   ],
   "source": [
    "sessionsA['score'] = sessionsA['event_type'].map({'VIEW_PRODUCT':1, 'BUY_PRODUCT':0})\n",
    "\n",
    "groupA = sessionsA.groupby(['user_id', 'product_id'])['score'].sum().reset_index()\n",
    "\n",
    "groupA = pd.pivot_table(groupA, values='score', index='user_id', columns='product_id')\n",
    "groupA = groupA.fillna(0)\n",
    "groupA = groupA.stack().reset_index()\n",
    "groupA = groupA.rename(columns={0:'score'})\n",
    "groupA['user_view'] = groupA['score'].apply(lambda x: 1 if x > 0 else 0)\n",
    "groupA"
   ]
  },
  {
   "cell_type": "code",
   "execution_count": 5,
   "id": "3fb48c36",
   "metadata": {},
   "outputs": [
    {
     "data": {
      "text/plain": "       index  user_id  product_id  score  user_view\n0          0      102        1001    0.0          0\n1          1      102        1002    3.0          1\n2          2      102        1003    2.0          1\n3          3      102        1004    2.0          1\n4          4      102        1005    5.0          1\n...      ...      ...         ...    ...        ...\n51103  63795      301        1315    1.0          1\n51104  63796      301        1316    1.0          1\n51105  63797      301        1317    4.0          1\n51106  63798      301        1318    4.0          1\n51107  63799      301        1319    0.0          0\n\n[51108 rows x 5 columns]",
      "text/html": "<div>\n<style scoped>\n    .dataframe tbody tr th:only-of-type {\n        vertical-align: middle;\n    }\n\n    .dataframe tbody tr th {\n        vertical-align: top;\n    }\n\n    .dataframe thead th {\n        text-align: right;\n    }\n</style>\n<table border=\"1\" class=\"dataframe\">\n  <thead>\n    <tr style=\"text-align: right;\">\n      <th></th>\n      <th>index</th>\n      <th>user_id</th>\n      <th>product_id</th>\n      <th>score</th>\n      <th>user_view</th>\n    </tr>\n  </thead>\n  <tbody>\n    <tr>\n      <th>0</th>\n      <td>0</td>\n      <td>102</td>\n      <td>1001</td>\n      <td>0.0</td>\n      <td>0</td>\n    </tr>\n    <tr>\n      <th>1</th>\n      <td>1</td>\n      <td>102</td>\n      <td>1002</td>\n      <td>3.0</td>\n      <td>1</td>\n    </tr>\n    <tr>\n      <th>2</th>\n      <td>2</td>\n      <td>102</td>\n      <td>1003</td>\n      <td>2.0</td>\n      <td>1</td>\n    </tr>\n    <tr>\n      <th>3</th>\n      <td>3</td>\n      <td>102</td>\n      <td>1004</td>\n      <td>2.0</td>\n      <td>1</td>\n    </tr>\n    <tr>\n      <th>4</th>\n      <td>4</td>\n      <td>102</td>\n      <td>1005</td>\n      <td>5.0</td>\n      <td>1</td>\n    </tr>\n    <tr>\n      <th>...</th>\n      <td>...</td>\n      <td>...</td>\n      <td>...</td>\n      <td>...</td>\n      <td>...</td>\n    </tr>\n    <tr>\n      <th>51103</th>\n      <td>63795</td>\n      <td>301</td>\n      <td>1315</td>\n      <td>1.0</td>\n      <td>1</td>\n    </tr>\n    <tr>\n      <th>51104</th>\n      <td>63796</td>\n      <td>301</td>\n      <td>1316</td>\n      <td>1.0</td>\n      <td>1</td>\n    </tr>\n    <tr>\n      <th>51105</th>\n      <td>63797</td>\n      <td>301</td>\n      <td>1317</td>\n      <td>4.0</td>\n      <td>1</td>\n    </tr>\n    <tr>\n      <th>51106</th>\n      <td>63798</td>\n      <td>301</td>\n      <td>1318</td>\n      <td>4.0</td>\n      <td>1</td>\n    </tr>\n    <tr>\n      <th>51107</th>\n      <td>63799</td>\n      <td>301</td>\n      <td>1319</td>\n      <td>0.0</td>\n      <td>0</td>\n    </tr>\n  </tbody>\n</table>\n<p>51108 rows × 5 columns</p>\n</div>"
     },
     "execution_count": 5,
     "metadata": {},
     "output_type": "execute_result"
    }
   ],
   "source": [
    "mask = np.random.rand(len(groupA)) < 0.8\n",
    "trainsetA = groupA[mask]\n",
    "testsetA = groupA[~mask]\n",
    "trainsetA = trainsetA.reset_index()\n",
    "trainsetA"
   ]
  },
  {
   "cell_type": "code",
   "execution_count": 6,
   "id": "07986ccb",
   "metadata": {},
   "outputs": [],
   "source": [
    "def one_hot_encode(element, list):\n",
    "    one_hot_encode_list = []\n",
    "    \n",
    "    for e in list:\n",
    "        if element == e:\n",
    "            one_hot_encode_list.append(1)\n",
    "        else:\n",
    "            one_hot_encode_list.append(0)\n",
    "    return one_hot_encode_list"
   ]
  },
  {
   "cell_type": "code",
   "execution_count": 7,
   "id": "0da0619d",
   "metadata": {},
   "outputs": [],
   "source": [
    "category_list = products['category_path'].unique()\n",
    "\n",
    "productsA = products.copy()\n",
    "productsA['category_path'] = productsA['category_path'].apply(lambda x: one_hot_encode(x, category_list))\n",
    "productsA['price'] = (productsA['price'] - productsA['price'].min()) / (productsA['price'].max() - productsA['price'].min())\n",
    "productsA['user_rating'] = (productsA['user_rating'] - productsA['user_rating'].min()) / (productsA['user_rating'].max() - productsA['user_rating'].min())"
   ]
  },
  {
   "cell_type": "code",
   "execution_count": 8,
   "id": "423a0c32",
   "metadata": {},
   "outputs": [],
   "source": [
    "def similarity(product_id1, product_id2):\n",
    "    a = productsA.iloc[product_id1]\n",
    "    b = productsA.iloc[product_id2]\n",
    "    \n",
    "    categoryA = a['category_path']\n",
    "    categoryB = b['category_path']\n",
    "    category_distance = spatial.distance.cosine(categoryA, categoryB)\n",
    "    \n",
    "    priceA = a['price']\n",
    "    priceB = b['price']\n",
    "    price_distance = abs(priceA - priceB) * 1\n",
    "    \n",
    "    ratingA = a['user_rating']\n",
    "    ratingB = b['user_rating']\n",
    "    rating_distance = abs(ratingA - ratingB)\n",
    "    \n",
    "    return category_distance + price_distance + rating_distance"
   ]
  },
  {
   "cell_type": "code",
   "execution_count": 9,
   "id": "a5a301eb",
   "metadata": {},
   "outputs": [],
   "source": [
    "def get_distances(product_id):\n",
    "    p = products.index[products['product_id'] == product_id][0]\n",
    "    distances = []\n",
    "    \n",
    "    for index, product in products.iterrows():\n",
    "        if product['product_id'] != product_id:\n",
    "            dist = similarity(index, p)\n",
    "            distances.append(dist)\n",
    "        else:\n",
    "            distances.append(0)\n",
    "    \n",
    "    return distances\n",
    "\n",
    "def get_neighbours(distances, K):\n",
    "    distances = [(index, dist) for index, dist in enumerate(distances)]\n",
    "    distances.sort(key=operator.itemgetter(1))\n",
    "    neighbours = []\n",
    "    \n",
    "    for x in range(K):\n",
    "        neighbours.append(distances[x])\n",
    "    return neighbours"
   ]
  },
  {
   "cell_type": "code",
   "execution_count": 10,
   "id": "27447ae8",
   "metadata": {},
   "outputs": [],
   "source": [
    "all_distances = []\n",
    "for i in range(len(products)):\n",
    "    all_distances.append(get_distances(products['product_id'].iloc[i]))"
   ]
  },
  {
   "cell_type": "code",
   "execution_count": 11,
   "id": "9d202f8e",
   "metadata": {},
   "outputs": [],
   "source": [
    "def get_recommendationA(user_id, dataset, K, all_distances):\n",
    "    s = dataset.index[dataset['user_id'] == user_id].tolist()\n",
    "    ids = []\n",
    "    for i in s:\n",
    "        ids.append(dataset['product_id'].iloc[i])\n",
    "    \n",
    "    distances = [0] * len(products)\n",
    "    for id in ids:\n",
    "        i = products.index[products['product_id'] == id][0]\n",
    "        score = dataset.loc[(dataset['user_id'] == user_id) & (dataset['product_id'] == id), 'score']\n",
    "        if len(score) != 0:\n",
    "            score = score.item()\n",
    "            for p in range(len(products)):\n",
    "                distances[p] = distances[p] + all_distances[i][p] * score\n",
    "    \n",
    "    maxi = max(distances)\n",
    "    for id in ids:\n",
    "        distances[products.index[products['product_id'] == id][0]] = maxi\n",
    "    \n",
    "    return get_neighbours(distances, K)"
   ]
  },
  {
   "cell_type": "code",
   "execution_count": 12,
   "id": "4e8080db",
   "metadata": {},
   "outputs": [
    {
     "data": {
      "text/plain": "     user_id                     name      city                  street\n6        108            Sylwia Karwot    Poznań          ul. Okrzei 771\n17       119                Iwo Nagel  Szczecin    ul. Solidarnosci 984\n19       121             Stefan Zajko     Radom     pl. Daszyńskiego 41\n26       128          Malwina Bondyra  Warszawa       ul. Myśliwska 600\n28       130            Kacper Szrama   Wrocław         ulica Boczna 79\n29       131             Leon Dawidek    Kraków   ul. Armii Krajowej 98\n30       132           Marcin Piaścik  Warszawa         plac Okrężna 85\n42       144             Jacek Prażmo  Szczecin      aleja Kołłątaja 42\n44       146            Miłosz Kasica    Poznań         pl. Andersa 346\n45       147            Tymon Smagacz  Szczecin      aleja Cisowa 69/85\n47       149            Melania Dubel    Gdynia         plac Mała 14/36\n52       154          Oskar Machowicz    Gdynia           al. Skośna 93\n64       166             Olgierd Kość   Wrocław     ulica Graniczna 151\n73       175           Marcel Matulka    Kraków       al. Srebrna 08/25\n78       180       Maciej Bączkiewicz    Gdynia       plac Fabryczna 77\n81       183             Kacper Lepak  Szczecin       ulica Bociania 75\n86       188             Karina Samol    Gdynia   ul. Paderewskiego 187\n88       190            Ada Pochopień    Poznań       pl. Cmentarna 496\n93       195           Cyprian Ruszel    Kraków     pl. Ściegiennego 52\n101      203           Dariusz Namysł    Poznań      aleja Wrzosowa 680\n108      210             Eliza Lesisz     Radom     plac Rolnicza 67/18\n109      211           Bianka Kostorz    Poznań      ul. Źródlana 19/05\n111      213       Oliwier Staniaszek  Warszawa           plac Długa 53\n115      217          Albert Melaniuk    Gdynia           ul. Makowa 59\n122      224       Aleksander Hajdasz   Wrocław     pl. Krokusowa 03/03\n126      228     Elżbieta Litwinowicz    Kraków      al. Wiatraczna 803\n134      236          Mateusz Podpora    Gdynia           pl. Piękna 27\n137      239              Liwia Macek  Warszawa    ul. Konopnickiej 734\n140      242             Tadeusz Wika    Kraków        ulica Podwale 31\n153      255            Kornel Zander   Wrocław        pl. Jaśminowa 69\n157      259  Franciszek Romankiewicz    Gdynia    aleja Kolorowa 65/47\n158      260         Mariusz Pabisiak    Poznań         ul. Górna 57/47\n159      261           Angelika Bajko    Kraków          pl. Perłowa 39\n168      270          Blanka Majewicz   Wrocław       ul. Słoneczna 783\n171      273       Andrzej Bartkowicz  Warszawa           plac Sowia 05\n173      275               Emil Pabiś  Warszawa      al. Popiełuszki 55\n178      280                Jan Galos     Radom        ul. Floriana 201\n182      284         Hubert Wierzchoń    Poznań   ulica Krasickiego 417\n186      288        Ernest Przewoźnik  Warszawa        ul. Wysoka 88/82\n187      289        Konstanty Pawełko   Wrocław  aleja Szczęśliwa 79/27\n189      291          Borys Cieplucha  Warszawa         aleja Mokra 658\n192      294           Damian Dorynek  Warszawa      al. Jeżynowa 82/60\n193      295            Damian Gomuła    Poznań       ul. Królewska 726\n195      297            Ernest Sulich    Gdynia           pl. Krucza 53\n196      298                Adam Kupś    Poznań       ul. Letniskowa 17\n198      300            Gabriel Bakun    Poznań        aleja Ceglana 29",
      "text/html": "<div>\n<style scoped>\n    .dataframe tbody tr th:only-of-type {\n        vertical-align: middle;\n    }\n\n    .dataframe tbody tr th {\n        vertical-align: top;\n    }\n\n    .dataframe thead th {\n        text-align: right;\n    }\n</style>\n<table border=\"1\" class=\"dataframe\">\n  <thead>\n    <tr style=\"text-align: right;\">\n      <th></th>\n      <th>user_id</th>\n      <th>name</th>\n      <th>city</th>\n      <th>street</th>\n    </tr>\n  </thead>\n  <tbody>\n    <tr>\n      <th>6</th>\n      <td>108</td>\n      <td>Sylwia Karwot</td>\n      <td>Poznań</td>\n      <td>ul. Okrzei 771</td>\n    </tr>\n    <tr>\n      <th>17</th>\n      <td>119</td>\n      <td>Iwo Nagel</td>\n      <td>Szczecin</td>\n      <td>ul. Solidarnosci 984</td>\n    </tr>\n    <tr>\n      <th>19</th>\n      <td>121</td>\n      <td>Stefan Zajko</td>\n      <td>Radom</td>\n      <td>pl. Daszyńskiego 41</td>\n    </tr>\n    <tr>\n      <th>26</th>\n      <td>128</td>\n      <td>Malwina Bondyra</td>\n      <td>Warszawa</td>\n      <td>ul. Myśliwska 600</td>\n    </tr>\n    <tr>\n      <th>28</th>\n      <td>130</td>\n      <td>Kacper Szrama</td>\n      <td>Wrocław</td>\n      <td>ulica Boczna 79</td>\n    </tr>\n    <tr>\n      <th>29</th>\n      <td>131</td>\n      <td>Leon Dawidek</td>\n      <td>Kraków</td>\n      <td>ul. Armii Krajowej 98</td>\n    </tr>\n    <tr>\n      <th>30</th>\n      <td>132</td>\n      <td>Marcin Piaścik</td>\n      <td>Warszawa</td>\n      <td>plac Okrężna 85</td>\n    </tr>\n    <tr>\n      <th>42</th>\n      <td>144</td>\n      <td>Jacek Prażmo</td>\n      <td>Szczecin</td>\n      <td>aleja Kołłątaja 42</td>\n    </tr>\n    <tr>\n      <th>44</th>\n      <td>146</td>\n      <td>Miłosz Kasica</td>\n      <td>Poznań</td>\n      <td>pl. Andersa 346</td>\n    </tr>\n    <tr>\n      <th>45</th>\n      <td>147</td>\n      <td>Tymon Smagacz</td>\n      <td>Szczecin</td>\n      <td>aleja Cisowa 69/85</td>\n    </tr>\n    <tr>\n      <th>47</th>\n      <td>149</td>\n      <td>Melania Dubel</td>\n      <td>Gdynia</td>\n      <td>plac Mała 14/36</td>\n    </tr>\n    <tr>\n      <th>52</th>\n      <td>154</td>\n      <td>Oskar Machowicz</td>\n      <td>Gdynia</td>\n      <td>al. Skośna 93</td>\n    </tr>\n    <tr>\n      <th>64</th>\n      <td>166</td>\n      <td>Olgierd Kość</td>\n      <td>Wrocław</td>\n      <td>ulica Graniczna 151</td>\n    </tr>\n    <tr>\n      <th>73</th>\n      <td>175</td>\n      <td>Marcel Matulka</td>\n      <td>Kraków</td>\n      <td>al. Srebrna 08/25</td>\n    </tr>\n    <tr>\n      <th>78</th>\n      <td>180</td>\n      <td>Maciej Bączkiewicz</td>\n      <td>Gdynia</td>\n      <td>plac Fabryczna 77</td>\n    </tr>\n    <tr>\n      <th>81</th>\n      <td>183</td>\n      <td>Kacper Lepak</td>\n      <td>Szczecin</td>\n      <td>ulica Bociania 75</td>\n    </tr>\n    <tr>\n      <th>86</th>\n      <td>188</td>\n      <td>Karina Samol</td>\n      <td>Gdynia</td>\n      <td>ul. Paderewskiego 187</td>\n    </tr>\n    <tr>\n      <th>88</th>\n      <td>190</td>\n      <td>Ada Pochopień</td>\n      <td>Poznań</td>\n      <td>pl. Cmentarna 496</td>\n    </tr>\n    <tr>\n      <th>93</th>\n      <td>195</td>\n      <td>Cyprian Ruszel</td>\n      <td>Kraków</td>\n      <td>pl. Ściegiennego 52</td>\n    </tr>\n    <tr>\n      <th>101</th>\n      <td>203</td>\n      <td>Dariusz Namysł</td>\n      <td>Poznań</td>\n      <td>aleja Wrzosowa 680</td>\n    </tr>\n    <tr>\n      <th>108</th>\n      <td>210</td>\n      <td>Eliza Lesisz</td>\n      <td>Radom</td>\n      <td>plac Rolnicza 67/18</td>\n    </tr>\n    <tr>\n      <th>109</th>\n      <td>211</td>\n      <td>Bianka Kostorz</td>\n      <td>Poznań</td>\n      <td>ul. Źródlana 19/05</td>\n    </tr>\n    <tr>\n      <th>111</th>\n      <td>213</td>\n      <td>Oliwier Staniaszek</td>\n      <td>Warszawa</td>\n      <td>plac Długa 53</td>\n    </tr>\n    <tr>\n      <th>115</th>\n      <td>217</td>\n      <td>Albert Melaniuk</td>\n      <td>Gdynia</td>\n      <td>ul. Makowa 59</td>\n    </tr>\n    <tr>\n      <th>122</th>\n      <td>224</td>\n      <td>Aleksander Hajdasz</td>\n      <td>Wrocław</td>\n      <td>pl. Krokusowa 03/03</td>\n    </tr>\n    <tr>\n      <th>126</th>\n      <td>228</td>\n      <td>Elżbieta Litwinowicz</td>\n      <td>Kraków</td>\n      <td>al. Wiatraczna 803</td>\n    </tr>\n    <tr>\n      <th>134</th>\n      <td>236</td>\n      <td>Mateusz Podpora</td>\n      <td>Gdynia</td>\n      <td>pl. Piękna 27</td>\n    </tr>\n    <tr>\n      <th>137</th>\n      <td>239</td>\n      <td>Liwia Macek</td>\n      <td>Warszawa</td>\n      <td>ul. Konopnickiej 734</td>\n    </tr>\n    <tr>\n      <th>140</th>\n      <td>242</td>\n      <td>Tadeusz Wika</td>\n      <td>Kraków</td>\n      <td>ulica Podwale 31</td>\n    </tr>\n    <tr>\n      <th>153</th>\n      <td>255</td>\n      <td>Kornel Zander</td>\n      <td>Wrocław</td>\n      <td>pl. Jaśminowa 69</td>\n    </tr>\n    <tr>\n      <th>157</th>\n      <td>259</td>\n      <td>Franciszek Romankiewicz</td>\n      <td>Gdynia</td>\n      <td>aleja Kolorowa 65/47</td>\n    </tr>\n    <tr>\n      <th>158</th>\n      <td>260</td>\n      <td>Mariusz Pabisiak</td>\n      <td>Poznań</td>\n      <td>ul. Górna 57/47</td>\n    </tr>\n    <tr>\n      <th>159</th>\n      <td>261</td>\n      <td>Angelika Bajko</td>\n      <td>Kraków</td>\n      <td>pl. Perłowa 39</td>\n    </tr>\n    <tr>\n      <th>168</th>\n      <td>270</td>\n      <td>Blanka Majewicz</td>\n      <td>Wrocław</td>\n      <td>ul. Słoneczna 783</td>\n    </tr>\n    <tr>\n      <th>171</th>\n      <td>273</td>\n      <td>Andrzej Bartkowicz</td>\n      <td>Warszawa</td>\n      <td>plac Sowia 05</td>\n    </tr>\n    <tr>\n      <th>173</th>\n      <td>275</td>\n      <td>Emil Pabiś</td>\n      <td>Warszawa</td>\n      <td>al. Popiełuszki 55</td>\n    </tr>\n    <tr>\n      <th>178</th>\n      <td>280</td>\n      <td>Jan Galos</td>\n      <td>Radom</td>\n      <td>ul. Floriana 201</td>\n    </tr>\n    <tr>\n      <th>182</th>\n      <td>284</td>\n      <td>Hubert Wierzchoń</td>\n      <td>Poznań</td>\n      <td>ulica Krasickiego 417</td>\n    </tr>\n    <tr>\n      <th>186</th>\n      <td>288</td>\n      <td>Ernest Przewoźnik</td>\n      <td>Warszawa</td>\n      <td>ul. Wysoka 88/82</td>\n    </tr>\n    <tr>\n      <th>187</th>\n      <td>289</td>\n      <td>Konstanty Pawełko</td>\n      <td>Wrocław</td>\n      <td>aleja Szczęśliwa 79/27</td>\n    </tr>\n    <tr>\n      <th>189</th>\n      <td>291</td>\n      <td>Borys Cieplucha</td>\n      <td>Warszawa</td>\n      <td>aleja Mokra 658</td>\n    </tr>\n    <tr>\n      <th>192</th>\n      <td>294</td>\n      <td>Damian Dorynek</td>\n      <td>Warszawa</td>\n      <td>al. Jeżynowa 82/60</td>\n    </tr>\n    <tr>\n      <th>193</th>\n      <td>295</td>\n      <td>Damian Gomuła</td>\n      <td>Poznań</td>\n      <td>ul. Królewska 726</td>\n    </tr>\n    <tr>\n      <th>195</th>\n      <td>297</td>\n      <td>Ernest Sulich</td>\n      <td>Gdynia</td>\n      <td>pl. Krucza 53</td>\n    </tr>\n    <tr>\n      <th>196</th>\n      <td>298</td>\n      <td>Adam Kupś</td>\n      <td>Poznań</td>\n      <td>ul. Letniskowa 17</td>\n    </tr>\n    <tr>\n      <th>198</th>\n      <td>300</td>\n      <td>Gabriel Bakun</td>\n      <td>Poznań</td>\n      <td>aleja Ceglana 29</td>\n    </tr>\n  </tbody>\n</table>\n</div>"
     },
     "execution_count": 12,
     "metadata": {},
     "output_type": "execute_result"
    }
   ],
   "source": [
    "user_mask = np.random.rand(len(users)) < 0.2\n",
    "test_users = users[user_mask]\n",
    "test_users"
   ]
  },
  {
   "cell_type": "code",
   "execution_count": 13,
   "id": "3ea19be2",
   "metadata": {},
   "outputs": [
    {
     "name": "stdout",
     "output_type": "stream",
     "text": [
      "108\n",
      "119\n",
      "121\n",
      "128\n",
      "130\n",
      "131\n",
      "132\n",
      "144\n",
      "146\n",
      "147\n",
      "149\n",
      "154\n",
      "166\n",
      "175\n",
      "180\n",
      "183\n",
      "188\n",
      "190\n",
      "195\n",
      "203\n",
      "210\n",
      "211\n",
      "213\n",
      "217\n",
      "224\n",
      "228\n",
      "236\n",
      "239\n",
      "242\n",
      "255\n",
      "259\n",
      "260\n",
      "261\n",
      "270\n",
      "273\n",
      "275\n",
      "280\n",
      "284\n",
      "288\n",
      "289\n",
      "291\n",
      "294\n",
      "295\n",
      "297\n",
      "298\n",
      "300\n"
     ]
    },
    {
     "data": {
      "text/plain": "0.32608695652173914"
     },
     "execution_count": 13,
     "metadata": {},
     "output_type": "execute_result"
    }
   ],
   "source": [
    "correct = 0\n",
    "for index, user in test_users.iterrows():\n",
    "    print(user['user_id'])\n",
    "    recommendations = get_recommendationA(user['user_id'], trainsetA, 5, all_distances)\n",
    "    for recommendation in recommendations:\n",
    "        id = products.iloc[recommendation[0]]['product_id']\n",
    "        view = testsetA[(testsetA['product_id'] == id) & (testsetA['user_id'] == user['user_id'])]['user_view']\n",
    "        if len(view) != 0:\n",
    "            view = view.item()\n",
    "            if view == 1:\n",
    "                correct = correct + 1\n",
    "correct / (5 * len(test_users))"
   ]
  },
  {
   "cell_type": "markdown",
   "id": "3a771be8",
   "metadata": {},
   "source": [
    "# Model B"
   ]
  },
  {
   "cell_type": "code",
   "execution_count": 14,
   "id": "f86e5cd9",
   "metadata": {},
   "outputs": [],
   "source": [
    "sessionsB = sessions.copy()"
   ]
  },
  {
   "cell_type": "code",
   "execution_count": 15,
   "id": "5fc96f13",
   "metadata": {},
   "outputs": [
    {
     "data": {
      "text/plain": "       user_id  product_id  score  user_view  interaction_score\n0          102        1001    0.0          0                0.0\n1          102        1002    5.0          1                1.0\n2          102        1003    5.0          1                1.0\n3          102        1004    5.0          1                1.0\n4          102        1005    5.0          1                1.0\n...        ...         ...    ...        ...                ...\n63795      301        1315    5.0          1                1.0\n63796      301        1316    5.0          1                1.0\n63797      301        1317    5.0          1                1.0\n63798      301        1318    5.0          1                1.0\n63799      301        1319    0.0          0                0.0\n\n[63800 rows x 5 columns]",
      "text/html": "<div>\n<style scoped>\n    .dataframe tbody tr th:only-of-type {\n        vertical-align: middle;\n    }\n\n    .dataframe tbody tr th {\n        vertical-align: top;\n    }\n\n    .dataframe thead th {\n        text-align: right;\n    }\n</style>\n<table border=\"1\" class=\"dataframe\">\n  <thead>\n    <tr style=\"text-align: right;\">\n      <th></th>\n      <th>user_id</th>\n      <th>product_id</th>\n      <th>score</th>\n      <th>user_view</th>\n      <th>interaction_score</th>\n    </tr>\n  </thead>\n  <tbody>\n    <tr>\n      <th>0</th>\n      <td>102</td>\n      <td>1001</td>\n      <td>0.0</td>\n      <td>0</td>\n      <td>0.0</td>\n    </tr>\n    <tr>\n      <th>1</th>\n      <td>102</td>\n      <td>1002</td>\n      <td>5.0</td>\n      <td>1</td>\n      <td>1.0</td>\n    </tr>\n    <tr>\n      <th>2</th>\n      <td>102</td>\n      <td>1003</td>\n      <td>5.0</td>\n      <td>1</td>\n      <td>1.0</td>\n    </tr>\n    <tr>\n      <th>3</th>\n      <td>102</td>\n      <td>1004</td>\n      <td>5.0</td>\n      <td>1</td>\n      <td>1.0</td>\n    </tr>\n    <tr>\n      <th>4</th>\n      <td>102</td>\n      <td>1005</td>\n      <td>5.0</td>\n      <td>1</td>\n      <td>1.0</td>\n    </tr>\n    <tr>\n      <th>...</th>\n      <td>...</td>\n      <td>...</td>\n      <td>...</td>\n      <td>...</td>\n      <td>...</td>\n    </tr>\n    <tr>\n      <th>63795</th>\n      <td>301</td>\n      <td>1315</td>\n      <td>5.0</td>\n      <td>1</td>\n      <td>1.0</td>\n    </tr>\n    <tr>\n      <th>63796</th>\n      <td>301</td>\n      <td>1316</td>\n      <td>5.0</td>\n      <td>1</td>\n      <td>1.0</td>\n    </tr>\n    <tr>\n      <th>63797</th>\n      <td>301</td>\n      <td>1317</td>\n      <td>5.0</td>\n      <td>1</td>\n      <td>1.0</td>\n    </tr>\n    <tr>\n      <th>63798</th>\n      <td>301</td>\n      <td>1318</td>\n      <td>5.0</td>\n      <td>1</td>\n      <td>1.0</td>\n    </tr>\n    <tr>\n      <th>63799</th>\n      <td>301</td>\n      <td>1319</td>\n      <td>0.0</td>\n      <td>0</td>\n      <td>0.0</td>\n    </tr>\n  </tbody>\n</table>\n<p>63800 rows × 5 columns</p>\n</div>"
     },
     "execution_count": 15,
     "metadata": {},
     "output_type": "execute_result"
    }
   ],
   "source": [
    "sessionsB['score'] = sessionsB['event_type'].map({'VIEW_PRODUCT':5, 'BUY_PRODUCT':5})\n",
    "\n",
    "groupB = sessionsB.groupby(['user_id', 'product_id'])['score'].sum().reset_index()\n",
    "\n",
    "groupB = sessionsB.groupby(['user_id', 'product_id'])['score'].sum().reset_index()\n",
    "groupB['score'] = groupB['score'].apply(lambda x: 5 if x>5 else x)\n",
    "groupB = pd.pivot_table(groupB, values='score', index='user_id', columns='product_id')\n",
    "groupB = groupB.fillna(0)\n",
    "groupB = groupB.stack().reset_index()\n",
    "groupB = groupB.rename(columns={0:'score'})\n",
    "groupB['user_view'] = groupB['score'].apply(lambda x: 1 if x > 0 else 0)\n",
    "\n",
    "std1 = MinMaxScaler(feature_range=(0, 1))\n",
    "std1.fit(groupB['score'].values.reshape(-1,1))\n",
    "groupB['interaction_score'] = std1.transform(groupB['score'].values.reshape(-1,1))\n",
    "groupB"
   ]
  },
  {
   "cell_type": "code",
   "execution_count": 16,
   "id": "7120247e",
   "metadata": {},
   "outputs": [],
   "source": [
    "def price_bin(price):\n",
    "    if price <= 25:\n",
    "        return 0\n",
    "    if price <= 50:\n",
    "        return 1\n",
    "    if price <= 100:\n",
    "        return 2\n",
    "    if price <= 250:\n",
    "        return 3\n",
    "    if price <= 500:\n",
    "        return 4\n",
    "    if price <= 1000:\n",
    "        return 5\n",
    "    if price <= 2000:\n",
    "        return 6\n",
    "    if price <= 4000:\n",
    "        return 7\n",
    "    else:\n",
    "        return 8"
   ]
  },
  {
   "cell_type": "code",
   "execution_count": 17,
   "id": "8d7138d6",
   "metadata": {},
   "outputs": [],
   "source": [
    "def rating_bin(rating):\n",
    "    if rating <= 0.5:\n",
    "        return 0\n",
    "    if rating <= 1.5:\n",
    "        return 1\n",
    "    if rating <= 2.5:\n",
    "        return 2\n",
    "    if rating <= 3.5:\n",
    "        return 3\n",
    "    if rating <= 4.5:\n",
    "        return 4\n",
    "    else:\n",
    "        return 5"
   ]
  },
  {
   "cell_type": "code",
   "execution_count": 18,
   "id": "6bedafa5",
   "metadata": {},
   "outputs": [
    {
     "data": {
      "text/plain": "       user_id  product_id                                    product_name  \\\n0          102        1001                   Telefon Siemens Gigaset DA310   \n1          102        1002                              Kyocera FS-1135MFP   \n2          102        1003                              Kyocera FS-3640MFP   \n3          102        1004                            Fallout 3 (Xbox 360)   \n4          102        1005  Szalone Króliki Na żywo i w kolorze (Xbox 360)   \n...        ...         ...                                             ...   \n63795      301        1315                                      Jabra Talk   \n63796      301        1316                      Plantronics Voyager Legend   \n63797      301        1317                           Plantronics Savi W740   \n63798      301        1318                           Plantronics Savi W710   \n63799      301        1319                                     HTC HS-S200   \n\n                                           category_path  price  user_rating  \\\n0              Telefony i akcesoria;Telefony stacjonarne      2            5   \n1      Komputery;Drukarki i skanery;Biurowe urządzeni...      7            1   \n2      Komputery;Drukarki i skanery;Biurowe urządzeni...      8            4   \n3              Gry i konsole;Gry na konsole;Gry Xbox 360      1            3   \n4              Gry i konsole;Gry na konsole;Gry Xbox 360      1            0   \n...                                                  ...    ...          ...   \n63795  Telefony i akcesoria;Akcesoria telefoniczne;Ze...      2            0   \n63796  Telefony i akcesoria;Akcesoria telefoniczne;Ze...      3            4   \n63797  Telefony i akcesoria;Akcesoria telefoniczne;Ze...      6            4   \n63798                         Sprzęt RTV;Audio;Słuchawki      5            5   \n63799  Telefony i akcesoria;Akcesoria telefoniczne;Ze...      0            5   \n\n       score  interaction_score  user_view  \n0        0.0                0.0          0  \n1        5.0                1.0          1  \n2        5.0                1.0          1  \n3        5.0                1.0          1  \n4        5.0                1.0          1  \n...      ...                ...        ...  \n63795    5.0                1.0          1  \n63796    5.0                1.0          1  \n63797    5.0                1.0          1  \n63798    5.0                1.0          1  \n63799    0.0                0.0          0  \n\n[63800 rows x 9 columns]",
      "text/html": "<div>\n<style scoped>\n    .dataframe tbody tr th:only-of-type {\n        vertical-align: middle;\n    }\n\n    .dataframe tbody tr th {\n        vertical-align: top;\n    }\n\n    .dataframe thead th {\n        text-align: right;\n    }\n</style>\n<table border=\"1\" class=\"dataframe\">\n  <thead>\n    <tr style=\"text-align: right;\">\n      <th></th>\n      <th>user_id</th>\n      <th>product_id</th>\n      <th>product_name</th>\n      <th>category_path</th>\n      <th>price</th>\n      <th>user_rating</th>\n      <th>score</th>\n      <th>interaction_score</th>\n      <th>user_view</th>\n    </tr>\n  </thead>\n  <tbody>\n    <tr>\n      <th>0</th>\n      <td>102</td>\n      <td>1001</td>\n      <td>Telefon Siemens Gigaset DA310</td>\n      <td>Telefony i akcesoria;Telefony stacjonarne</td>\n      <td>2</td>\n      <td>5</td>\n      <td>0.0</td>\n      <td>0.0</td>\n      <td>0</td>\n    </tr>\n    <tr>\n      <th>1</th>\n      <td>102</td>\n      <td>1002</td>\n      <td>Kyocera FS-1135MFP</td>\n      <td>Komputery;Drukarki i skanery;Biurowe urządzeni...</td>\n      <td>7</td>\n      <td>1</td>\n      <td>5.0</td>\n      <td>1.0</td>\n      <td>1</td>\n    </tr>\n    <tr>\n      <th>2</th>\n      <td>102</td>\n      <td>1003</td>\n      <td>Kyocera FS-3640MFP</td>\n      <td>Komputery;Drukarki i skanery;Biurowe urządzeni...</td>\n      <td>8</td>\n      <td>4</td>\n      <td>5.0</td>\n      <td>1.0</td>\n      <td>1</td>\n    </tr>\n    <tr>\n      <th>3</th>\n      <td>102</td>\n      <td>1004</td>\n      <td>Fallout 3 (Xbox 360)</td>\n      <td>Gry i konsole;Gry na konsole;Gry Xbox 360</td>\n      <td>1</td>\n      <td>3</td>\n      <td>5.0</td>\n      <td>1.0</td>\n      <td>1</td>\n    </tr>\n    <tr>\n      <th>4</th>\n      <td>102</td>\n      <td>1005</td>\n      <td>Szalone Króliki Na żywo i w kolorze (Xbox 360)</td>\n      <td>Gry i konsole;Gry na konsole;Gry Xbox 360</td>\n      <td>1</td>\n      <td>0</td>\n      <td>5.0</td>\n      <td>1.0</td>\n      <td>1</td>\n    </tr>\n    <tr>\n      <th>...</th>\n      <td>...</td>\n      <td>...</td>\n      <td>...</td>\n      <td>...</td>\n      <td>...</td>\n      <td>...</td>\n      <td>...</td>\n      <td>...</td>\n      <td>...</td>\n    </tr>\n    <tr>\n      <th>63795</th>\n      <td>301</td>\n      <td>1315</td>\n      <td>Jabra Talk</td>\n      <td>Telefony i akcesoria;Akcesoria telefoniczne;Ze...</td>\n      <td>2</td>\n      <td>0</td>\n      <td>5.0</td>\n      <td>1.0</td>\n      <td>1</td>\n    </tr>\n    <tr>\n      <th>63796</th>\n      <td>301</td>\n      <td>1316</td>\n      <td>Plantronics Voyager Legend</td>\n      <td>Telefony i akcesoria;Akcesoria telefoniczne;Ze...</td>\n      <td>3</td>\n      <td>4</td>\n      <td>5.0</td>\n      <td>1.0</td>\n      <td>1</td>\n    </tr>\n    <tr>\n      <th>63797</th>\n      <td>301</td>\n      <td>1317</td>\n      <td>Plantronics Savi W740</td>\n      <td>Telefony i akcesoria;Akcesoria telefoniczne;Ze...</td>\n      <td>6</td>\n      <td>4</td>\n      <td>5.0</td>\n      <td>1.0</td>\n      <td>1</td>\n    </tr>\n    <tr>\n      <th>63798</th>\n      <td>301</td>\n      <td>1318</td>\n      <td>Plantronics Savi W710</td>\n      <td>Sprzęt RTV;Audio;Słuchawki</td>\n      <td>5</td>\n      <td>5</td>\n      <td>5.0</td>\n      <td>1.0</td>\n      <td>1</td>\n    </tr>\n    <tr>\n      <th>63799</th>\n      <td>301</td>\n      <td>1319</td>\n      <td>HTC HS-S200</td>\n      <td>Telefony i akcesoria;Akcesoria telefoniczne;Ze...</td>\n      <td>0</td>\n      <td>5</td>\n      <td>0.0</td>\n      <td>0.0</td>\n      <td>0</td>\n    </tr>\n  </tbody>\n</table>\n<p>63800 rows × 9 columns</p>\n</div>"
     },
     "execution_count": 18,
     "metadata": {},
     "output_type": "execute_result"
    }
   ],
   "source": [
    "groupB = pd.merge(groupB, products, on=\"product_id\", how=\"left\")\n",
    "groupB = pd.merge(groupB, users, on=\"user_id\", how=\"left\")\n",
    "groupB = groupB[['user_id', 'product_id', 'product_name', 'category_path', 'price', 'user_rating', 'score', 'interaction_score', 'user_view']]\n",
    "groupB['price'] = groupB['price'].apply(lambda x: price_bin(x))\n",
    "groupB['user_rating'] = groupB['user_rating'].apply(lambda x: rating_bin(x))\n",
    "groupB"
   ]
  },
  {
   "cell_type": "code",
   "execution_count": 19,
   "id": "0b389218",
   "metadata": {},
   "outputs": [
    {
     "data": {
      "text/plain": "       index  user_id  product_id  \\\n0          0      102        1001   \n1          1      102        1002   \n2          2      102        1003   \n3          3      102        1004   \n4          4      102        1005   \n...      ...      ...         ...   \n51103  63795      301        1315   \n51104  63796      301        1316   \n51105  63797      301        1317   \n51106  63798      301        1318   \n51107  63799      301        1319   \n\n                                         product_name  \\\n0                       Telefon Siemens Gigaset DA310   \n1                                  Kyocera FS-1135MFP   \n2                                  Kyocera FS-3640MFP   \n3                                Fallout 3 (Xbox 360)   \n4      Szalone Króliki Na żywo i w kolorze (Xbox 360)   \n...                                               ...   \n51103                                      Jabra Talk   \n51104                      Plantronics Voyager Legend   \n51105                           Plantronics Savi W740   \n51106                           Plantronics Savi W710   \n51107                                     HTC HS-S200   \n\n                                           category_path  price  user_rating  \\\n0              Telefony i akcesoria;Telefony stacjonarne      2            5   \n1      Komputery;Drukarki i skanery;Biurowe urządzeni...      7            1   \n2      Komputery;Drukarki i skanery;Biurowe urządzeni...      8            4   \n3              Gry i konsole;Gry na konsole;Gry Xbox 360      1            3   \n4              Gry i konsole;Gry na konsole;Gry Xbox 360      1            0   \n...                                                  ...    ...          ...   \n51103  Telefony i akcesoria;Akcesoria telefoniczne;Ze...      2            0   \n51104  Telefony i akcesoria;Akcesoria telefoniczne;Ze...      3            4   \n51105  Telefony i akcesoria;Akcesoria telefoniczne;Ze...      6            4   \n51106                         Sprzęt RTV;Audio;Słuchawki      5            5   \n51107  Telefony i akcesoria;Akcesoria telefoniczne;Ze...      0            5   \n\n       score  interaction_score  user_view  \n0        0.0                0.0          0  \n1        5.0                1.0          1  \n2        5.0                1.0          1  \n3        5.0                1.0          1  \n4        5.0                1.0          1  \n...      ...                ...        ...  \n51103    5.0                1.0          1  \n51104    5.0                1.0          1  \n51105    5.0                1.0          1  \n51106    5.0                1.0          1  \n51107    0.0                0.0          0  \n\n[51108 rows x 10 columns]",
      "text/html": "<div>\n<style scoped>\n    .dataframe tbody tr th:only-of-type {\n        vertical-align: middle;\n    }\n\n    .dataframe tbody tr th {\n        vertical-align: top;\n    }\n\n    .dataframe thead th {\n        text-align: right;\n    }\n</style>\n<table border=\"1\" class=\"dataframe\">\n  <thead>\n    <tr style=\"text-align: right;\">\n      <th></th>\n      <th>index</th>\n      <th>user_id</th>\n      <th>product_id</th>\n      <th>product_name</th>\n      <th>category_path</th>\n      <th>price</th>\n      <th>user_rating</th>\n      <th>score</th>\n      <th>interaction_score</th>\n      <th>user_view</th>\n    </tr>\n  </thead>\n  <tbody>\n    <tr>\n      <th>0</th>\n      <td>0</td>\n      <td>102</td>\n      <td>1001</td>\n      <td>Telefon Siemens Gigaset DA310</td>\n      <td>Telefony i akcesoria;Telefony stacjonarne</td>\n      <td>2</td>\n      <td>5</td>\n      <td>0.0</td>\n      <td>0.0</td>\n      <td>0</td>\n    </tr>\n    <tr>\n      <th>1</th>\n      <td>1</td>\n      <td>102</td>\n      <td>1002</td>\n      <td>Kyocera FS-1135MFP</td>\n      <td>Komputery;Drukarki i skanery;Biurowe urządzeni...</td>\n      <td>7</td>\n      <td>1</td>\n      <td>5.0</td>\n      <td>1.0</td>\n      <td>1</td>\n    </tr>\n    <tr>\n      <th>2</th>\n      <td>2</td>\n      <td>102</td>\n      <td>1003</td>\n      <td>Kyocera FS-3640MFP</td>\n      <td>Komputery;Drukarki i skanery;Biurowe urządzeni...</td>\n      <td>8</td>\n      <td>4</td>\n      <td>5.0</td>\n      <td>1.0</td>\n      <td>1</td>\n    </tr>\n    <tr>\n      <th>3</th>\n      <td>3</td>\n      <td>102</td>\n      <td>1004</td>\n      <td>Fallout 3 (Xbox 360)</td>\n      <td>Gry i konsole;Gry na konsole;Gry Xbox 360</td>\n      <td>1</td>\n      <td>3</td>\n      <td>5.0</td>\n      <td>1.0</td>\n      <td>1</td>\n    </tr>\n    <tr>\n      <th>4</th>\n      <td>4</td>\n      <td>102</td>\n      <td>1005</td>\n      <td>Szalone Króliki Na żywo i w kolorze (Xbox 360)</td>\n      <td>Gry i konsole;Gry na konsole;Gry Xbox 360</td>\n      <td>1</td>\n      <td>0</td>\n      <td>5.0</td>\n      <td>1.0</td>\n      <td>1</td>\n    </tr>\n    <tr>\n      <th>...</th>\n      <td>...</td>\n      <td>...</td>\n      <td>...</td>\n      <td>...</td>\n      <td>...</td>\n      <td>...</td>\n      <td>...</td>\n      <td>...</td>\n      <td>...</td>\n      <td>...</td>\n    </tr>\n    <tr>\n      <th>51103</th>\n      <td>63795</td>\n      <td>301</td>\n      <td>1315</td>\n      <td>Jabra Talk</td>\n      <td>Telefony i akcesoria;Akcesoria telefoniczne;Ze...</td>\n      <td>2</td>\n      <td>0</td>\n      <td>5.0</td>\n      <td>1.0</td>\n      <td>1</td>\n    </tr>\n    <tr>\n      <th>51104</th>\n      <td>63796</td>\n      <td>301</td>\n      <td>1316</td>\n      <td>Plantronics Voyager Legend</td>\n      <td>Telefony i akcesoria;Akcesoria telefoniczne;Ze...</td>\n      <td>3</td>\n      <td>4</td>\n      <td>5.0</td>\n      <td>1.0</td>\n      <td>1</td>\n    </tr>\n    <tr>\n      <th>51105</th>\n      <td>63797</td>\n      <td>301</td>\n      <td>1317</td>\n      <td>Plantronics Savi W740</td>\n      <td>Telefony i akcesoria;Akcesoria telefoniczne;Ze...</td>\n      <td>6</td>\n      <td>4</td>\n      <td>5.0</td>\n      <td>1.0</td>\n      <td>1</td>\n    </tr>\n    <tr>\n      <th>51106</th>\n      <td>63798</td>\n      <td>301</td>\n      <td>1318</td>\n      <td>Plantronics Savi W710</td>\n      <td>Sprzęt RTV;Audio;Słuchawki</td>\n      <td>5</td>\n      <td>5</td>\n      <td>5.0</td>\n      <td>1.0</td>\n      <td>1</td>\n    </tr>\n    <tr>\n      <th>51107</th>\n      <td>63799</td>\n      <td>301</td>\n      <td>1319</td>\n      <td>HTC HS-S200</td>\n      <td>Telefony i akcesoria;Akcesoria telefoniczne;Ze...</td>\n      <td>0</td>\n      <td>5</td>\n      <td>0.0</td>\n      <td>0.0</td>\n      <td>0</td>\n    </tr>\n  </tbody>\n</table>\n<p>51108 rows × 10 columns</p>\n</div>"
     },
     "execution_count": 19,
     "metadata": {},
     "output_type": "execute_result"
    }
   ],
   "source": [
    "trainsetB = groupB[mask]\n",
    "testsetB = groupB[~mask]\n",
    "trainsetB = trainsetB.reset_index()\n",
    "trainsetB"
   ]
  },
  {
   "cell_type": "code",
   "execution_count": 20,
   "id": "b471c5a2",
   "metadata": {},
   "outputs": [
    {
     "data": {
      "text/plain": "product_id  1001  1002  1003  1004  1005  1006  1007  1008  1009  1010  ...  \\\nuser_id                                                                 ...   \n102          0.0   5.0   5.0   5.0   5.0   5.0   5.0   0.0   5.0   0.0  ...   \n103          0.0   5.0   0.0   0.0   5.0   5.0   5.0   5.0   5.0   5.0  ...   \n104          0.0   5.0   5.0   5.0   5.0   5.0   5.0   5.0   0.0   5.0  ...   \n105          0.0   0.0   0.0   5.0   0.0   5.0   5.0   5.0   0.0   5.0  ...   \n106          0.0   5.0   5.0   5.0   5.0   5.0   5.0   5.0   0.0   5.0  ...   \n...          ...   ...   ...   ...   ...   ...   ...   ...   ...   ...  ...   \n297          5.0   5.0   5.0   5.0   5.0   5.0   5.0   5.0   0.0   5.0  ...   \n298          0.0   5.0   5.0   5.0   5.0   5.0   5.0   5.0   5.0   5.0  ...   \n299          0.0   0.0   0.0   0.0   0.0   0.0   0.0   0.0   0.0   0.0  ...   \n300          0.0   0.0   0.0   5.0   5.0   0.0   5.0   0.0   0.0   5.0  ...   \n301          5.0   5.0   5.0   0.0   5.0   5.0   5.0   0.0   5.0   0.0  ...   \n\nproduct_id  1310  1311  1312  1313  1314  1315  1316  1317  1318  1319  \nuser_id                                                                 \n102          5.0   5.0   0.0   0.0   5.0   5.0   5.0   5.0   0.0   0.0  \n103          0.0   5.0   0.0   5.0   5.0   5.0   0.0   0.0   5.0   5.0  \n104          0.0   5.0   5.0   0.0   5.0   0.0   0.0   0.0   5.0   0.0  \n105          0.0   5.0   0.0   5.0   5.0   5.0   5.0   5.0   0.0   5.0  \n106          0.0   5.0   0.0   5.0   0.0   0.0   5.0   5.0   5.0   0.0  \n...          ...   ...   ...   ...   ...   ...   ...   ...   ...   ...  \n297          0.0   5.0   0.0   5.0   0.0   0.0   5.0   5.0   0.0   5.0  \n298          0.0   5.0   0.0   0.0   0.0   0.0   0.0   5.0   0.0   0.0  \n299          0.0   0.0   0.0   0.0   0.0   0.0   0.0   0.0   0.0   0.0  \n300          0.0   5.0   0.0   0.0   0.0   0.0   0.0   0.0   0.0   0.0  \n301          0.0   5.0   0.0   5.0   0.0   5.0   5.0   5.0   5.0   0.0  \n\n[200 rows x 319 columns]",
      "text/html": "<div>\n<style scoped>\n    .dataframe tbody tr th:only-of-type {\n        vertical-align: middle;\n    }\n\n    .dataframe tbody tr th {\n        vertical-align: top;\n    }\n\n    .dataframe thead th {\n        text-align: right;\n    }\n</style>\n<table border=\"1\" class=\"dataframe\">\n  <thead>\n    <tr style=\"text-align: right;\">\n      <th>product_id</th>\n      <th>1001</th>\n      <th>1002</th>\n      <th>1003</th>\n      <th>1004</th>\n      <th>1005</th>\n      <th>1006</th>\n      <th>1007</th>\n      <th>1008</th>\n      <th>1009</th>\n      <th>1010</th>\n      <th>...</th>\n      <th>1310</th>\n      <th>1311</th>\n      <th>1312</th>\n      <th>1313</th>\n      <th>1314</th>\n      <th>1315</th>\n      <th>1316</th>\n      <th>1317</th>\n      <th>1318</th>\n      <th>1319</th>\n    </tr>\n    <tr>\n      <th>user_id</th>\n      <th></th>\n      <th></th>\n      <th></th>\n      <th></th>\n      <th></th>\n      <th></th>\n      <th></th>\n      <th></th>\n      <th></th>\n      <th></th>\n      <th></th>\n      <th></th>\n      <th></th>\n      <th></th>\n      <th></th>\n      <th></th>\n      <th></th>\n      <th></th>\n      <th></th>\n      <th></th>\n      <th></th>\n    </tr>\n  </thead>\n  <tbody>\n    <tr>\n      <th>102</th>\n      <td>0.0</td>\n      <td>5.0</td>\n      <td>5.0</td>\n      <td>5.0</td>\n      <td>5.0</td>\n      <td>5.0</td>\n      <td>5.0</td>\n      <td>0.0</td>\n      <td>5.0</td>\n      <td>0.0</td>\n      <td>...</td>\n      <td>5.0</td>\n      <td>5.0</td>\n      <td>0.0</td>\n      <td>0.0</td>\n      <td>5.0</td>\n      <td>5.0</td>\n      <td>5.0</td>\n      <td>5.0</td>\n      <td>0.0</td>\n      <td>0.0</td>\n    </tr>\n    <tr>\n      <th>103</th>\n      <td>0.0</td>\n      <td>5.0</td>\n      <td>0.0</td>\n      <td>0.0</td>\n      <td>5.0</td>\n      <td>5.0</td>\n      <td>5.0</td>\n      <td>5.0</td>\n      <td>5.0</td>\n      <td>5.0</td>\n      <td>...</td>\n      <td>0.0</td>\n      <td>5.0</td>\n      <td>0.0</td>\n      <td>5.0</td>\n      <td>5.0</td>\n      <td>5.0</td>\n      <td>0.0</td>\n      <td>0.0</td>\n      <td>5.0</td>\n      <td>5.0</td>\n    </tr>\n    <tr>\n      <th>104</th>\n      <td>0.0</td>\n      <td>5.0</td>\n      <td>5.0</td>\n      <td>5.0</td>\n      <td>5.0</td>\n      <td>5.0</td>\n      <td>5.0</td>\n      <td>5.0</td>\n      <td>0.0</td>\n      <td>5.0</td>\n      <td>...</td>\n      <td>0.0</td>\n      <td>5.0</td>\n      <td>5.0</td>\n      <td>0.0</td>\n      <td>5.0</td>\n      <td>0.0</td>\n      <td>0.0</td>\n      <td>0.0</td>\n      <td>5.0</td>\n      <td>0.0</td>\n    </tr>\n    <tr>\n      <th>105</th>\n      <td>0.0</td>\n      <td>0.0</td>\n      <td>0.0</td>\n      <td>5.0</td>\n      <td>0.0</td>\n      <td>5.0</td>\n      <td>5.0</td>\n      <td>5.0</td>\n      <td>0.0</td>\n      <td>5.0</td>\n      <td>...</td>\n      <td>0.0</td>\n      <td>5.0</td>\n      <td>0.0</td>\n      <td>5.0</td>\n      <td>5.0</td>\n      <td>5.0</td>\n      <td>5.0</td>\n      <td>5.0</td>\n      <td>0.0</td>\n      <td>5.0</td>\n    </tr>\n    <tr>\n      <th>106</th>\n      <td>0.0</td>\n      <td>5.0</td>\n      <td>5.0</td>\n      <td>5.0</td>\n      <td>5.0</td>\n      <td>5.0</td>\n      <td>5.0</td>\n      <td>5.0</td>\n      <td>0.0</td>\n      <td>5.0</td>\n      <td>...</td>\n      <td>0.0</td>\n      <td>5.0</td>\n      <td>0.0</td>\n      <td>5.0</td>\n      <td>0.0</td>\n      <td>0.0</td>\n      <td>5.0</td>\n      <td>5.0</td>\n      <td>5.0</td>\n      <td>0.0</td>\n    </tr>\n    <tr>\n      <th>...</th>\n      <td>...</td>\n      <td>...</td>\n      <td>...</td>\n      <td>...</td>\n      <td>...</td>\n      <td>...</td>\n      <td>...</td>\n      <td>...</td>\n      <td>...</td>\n      <td>...</td>\n      <td>...</td>\n      <td>...</td>\n      <td>...</td>\n      <td>...</td>\n      <td>...</td>\n      <td>...</td>\n      <td>...</td>\n      <td>...</td>\n      <td>...</td>\n      <td>...</td>\n      <td>...</td>\n    </tr>\n    <tr>\n      <th>297</th>\n      <td>5.0</td>\n      <td>5.0</td>\n      <td>5.0</td>\n      <td>5.0</td>\n      <td>5.0</td>\n      <td>5.0</td>\n      <td>5.0</td>\n      <td>5.0</td>\n      <td>0.0</td>\n      <td>5.0</td>\n      <td>...</td>\n      <td>0.0</td>\n      <td>5.0</td>\n      <td>0.0</td>\n      <td>5.0</td>\n      <td>0.0</td>\n      <td>0.0</td>\n      <td>5.0</td>\n      <td>5.0</td>\n      <td>0.0</td>\n      <td>5.0</td>\n    </tr>\n    <tr>\n      <th>298</th>\n      <td>0.0</td>\n      <td>5.0</td>\n      <td>5.0</td>\n      <td>5.0</td>\n      <td>5.0</td>\n      <td>5.0</td>\n      <td>5.0</td>\n      <td>5.0</td>\n      <td>5.0</td>\n      <td>5.0</td>\n      <td>...</td>\n      <td>0.0</td>\n      <td>5.0</td>\n      <td>0.0</td>\n      <td>0.0</td>\n      <td>0.0</td>\n      <td>0.0</td>\n      <td>0.0</td>\n      <td>5.0</td>\n      <td>0.0</td>\n      <td>0.0</td>\n    </tr>\n    <tr>\n      <th>299</th>\n      <td>0.0</td>\n      <td>0.0</td>\n      <td>0.0</td>\n      <td>0.0</td>\n      <td>0.0</td>\n      <td>0.0</td>\n      <td>0.0</td>\n      <td>0.0</td>\n      <td>0.0</td>\n      <td>0.0</td>\n      <td>...</td>\n      <td>0.0</td>\n      <td>0.0</td>\n      <td>0.0</td>\n      <td>0.0</td>\n      <td>0.0</td>\n      <td>0.0</td>\n      <td>0.0</td>\n      <td>0.0</td>\n      <td>0.0</td>\n      <td>0.0</td>\n    </tr>\n    <tr>\n      <th>300</th>\n      <td>0.0</td>\n      <td>0.0</td>\n      <td>0.0</td>\n      <td>5.0</td>\n      <td>5.0</td>\n      <td>0.0</td>\n      <td>5.0</td>\n      <td>0.0</td>\n      <td>0.0</td>\n      <td>5.0</td>\n      <td>...</td>\n      <td>0.0</td>\n      <td>5.0</td>\n      <td>0.0</td>\n      <td>0.0</td>\n      <td>0.0</td>\n      <td>0.0</td>\n      <td>0.0</td>\n      <td>0.0</td>\n      <td>0.0</td>\n      <td>0.0</td>\n    </tr>\n    <tr>\n      <th>301</th>\n      <td>5.0</td>\n      <td>5.0</td>\n      <td>5.0</td>\n      <td>0.0</td>\n      <td>5.0</td>\n      <td>5.0</td>\n      <td>5.0</td>\n      <td>0.0</td>\n      <td>5.0</td>\n      <td>0.0</td>\n      <td>...</td>\n      <td>0.0</td>\n      <td>5.0</td>\n      <td>0.0</td>\n      <td>5.0</td>\n      <td>0.0</td>\n      <td>5.0</td>\n      <td>5.0</td>\n      <td>5.0</td>\n      <td>5.0</td>\n      <td>0.0</td>\n    </tr>\n  </tbody>\n</table>\n<p>200 rows × 319 columns</p>\n</div>"
     },
     "execution_count": 20,
     "metadata": {},
     "output_type": "execute_result"
    }
   ],
   "source": [
    "train_matrix = pd.pivot_table(trainsetB, values='score', index='user_id', columns='product_id')\n",
    "train_matrix = train_matrix.fillna(0)\n",
    "train_matrix"
   ]
  },
  {
   "cell_type": "code",
   "execution_count": 21,
   "id": "f3da3447",
   "metadata": {},
   "outputs": [
    {
     "data": {
      "text/plain": "     product_id                                      category_path  price  \\\n0          1001          Telefony i akcesoria;Telefony stacjonarne      2   \n1          1002  Komputery;Drukarki i skanery;Biurowe urządzeni...      7   \n2          1003  Komputery;Drukarki i skanery;Biurowe urządzeni...      8   \n3          1004          Gry i konsole;Gry na konsole;Gry Xbox 360      1   \n4          1005          Gry i konsole;Gry na konsole;Gry Xbox 360      1   \n..          ...                                                ...    ...   \n264        1315  Telefony i akcesoria;Akcesoria telefoniczne;Ze...      2   \n265        1316  Telefony i akcesoria;Akcesoria telefoniczne;Ze...      3   \n266        1317  Telefony i akcesoria;Akcesoria telefoniczne;Ze...      6   \n267        1318                         Sprzęt RTV;Audio;Słuchawki      5   \n268        1319  Telefony i akcesoria;Akcesoria telefoniczne;Ze...      0   \n\n     user_rating  \n0              5  \n1              1  \n2              4  \n3              3  \n4              0  \n..           ...  \n264            0  \n265            4  \n266            4  \n267            5  \n268            5  \n\n[319 rows x 4 columns]",
      "text/html": "<div>\n<style scoped>\n    .dataframe tbody tr th:only-of-type {\n        vertical-align: middle;\n    }\n\n    .dataframe tbody tr th {\n        vertical-align: top;\n    }\n\n    .dataframe thead th {\n        text-align: right;\n    }\n</style>\n<table border=\"1\" class=\"dataframe\">\n  <thead>\n    <tr style=\"text-align: right;\">\n      <th></th>\n      <th>product_id</th>\n      <th>category_path</th>\n      <th>price</th>\n      <th>user_rating</th>\n    </tr>\n  </thead>\n  <tbody>\n    <tr>\n      <th>0</th>\n      <td>1001</td>\n      <td>Telefony i akcesoria;Telefony stacjonarne</td>\n      <td>2</td>\n      <td>5</td>\n    </tr>\n    <tr>\n      <th>1</th>\n      <td>1002</td>\n      <td>Komputery;Drukarki i skanery;Biurowe urządzeni...</td>\n      <td>7</td>\n      <td>1</td>\n    </tr>\n    <tr>\n      <th>2</th>\n      <td>1003</td>\n      <td>Komputery;Drukarki i skanery;Biurowe urządzeni...</td>\n      <td>8</td>\n      <td>4</td>\n    </tr>\n    <tr>\n      <th>3</th>\n      <td>1004</td>\n      <td>Gry i konsole;Gry na konsole;Gry Xbox 360</td>\n      <td>1</td>\n      <td>3</td>\n    </tr>\n    <tr>\n      <th>4</th>\n      <td>1005</td>\n      <td>Gry i konsole;Gry na konsole;Gry Xbox 360</td>\n      <td>1</td>\n      <td>0</td>\n    </tr>\n    <tr>\n      <th>...</th>\n      <td>...</td>\n      <td>...</td>\n      <td>...</td>\n      <td>...</td>\n    </tr>\n    <tr>\n      <th>264</th>\n      <td>1315</td>\n      <td>Telefony i akcesoria;Akcesoria telefoniczne;Ze...</td>\n      <td>2</td>\n      <td>0</td>\n    </tr>\n    <tr>\n      <th>265</th>\n      <td>1316</td>\n      <td>Telefony i akcesoria;Akcesoria telefoniczne;Ze...</td>\n      <td>3</td>\n      <td>4</td>\n    </tr>\n    <tr>\n      <th>266</th>\n      <td>1317</td>\n      <td>Telefony i akcesoria;Akcesoria telefoniczne;Ze...</td>\n      <td>6</td>\n      <td>4</td>\n    </tr>\n    <tr>\n      <th>267</th>\n      <td>1318</td>\n      <td>Sprzęt RTV;Audio;Słuchawki</td>\n      <td>5</td>\n      <td>5</td>\n    </tr>\n    <tr>\n      <th>268</th>\n      <td>1319</td>\n      <td>Telefony i akcesoria;Akcesoria telefoniczne;Ze...</td>\n      <td>0</td>\n      <td>5</td>\n    </tr>\n  </tbody>\n</table>\n<p>319 rows × 4 columns</p>\n</div>"
     },
     "execution_count": 21,
     "metadata": {},
     "output_type": "execute_result"
    }
   ],
   "source": [
    "product_cat = trainsetB[['product_id', 'category_path', 'price', 'user_rating']].drop_duplicates('product_id')\n",
    "product_cat = product_cat.sort_values(by='product_id')\n",
    "product_cat"
   ]
  },
  {
   "cell_type": "code",
   "execution_count": 23,
   "id": "08f49c9d",
   "metadata": {},
   "outputs": [
    {
     "name": "stderr",
     "output_type": "stream",
     "text": [
      "C:\\Users\\patry\\PycharmProjects\\SSNE_labs\\venv\\lib\\site-packages\\sklearn\\utils\\deprecation.py:87: FutureWarning: Function get_feature_names is deprecated; get_feature_names is deprecated in 1.0 and will be removed in 1.2. Please use get_feature_names_out instead.\n",
      "  warnings.warn(msg, category=FutureWarning)\n"
     ]
    },
    {
     "data": {
      "text/plain": "         1001      1002      1003      1004      1005      1006      1007  \\\n102  0.447620  0.796220  0.882357  0.926009  0.790181  0.810112  0.908526   \n103  0.486131  0.743097  0.675911  0.735216  0.724684  0.813123  0.864365   \n104  0.359534  0.848971  0.726626  0.727342  0.637200  0.699225  0.794419   \n105  0.537420  0.277900  0.366352  0.639179  0.538415  0.596203  0.633679   \n106  0.539348  0.846598  0.871160  0.733971  0.680143  0.757498  0.833838   \n..        ...       ...       ...       ...       ...       ...       ...   \n297  0.876787  0.958646  0.976231  0.762311  0.659011  0.785851  0.848705   \n298  0.470685  0.840599  0.905895  0.810684  0.791241  0.905296  0.923860   \n299  0.080036  0.071267  0.033226  0.141109  0.147908  0.119749  0.120877   \n300  0.008885  0.011866  0.004480  0.156561  0.117478  0.133853  0.134981   \n301  0.818407  0.827250  0.851389  0.623979  0.544076  0.606142  0.669200   \n\n         1008      1009      1010  ...      1310      1311      1312  \\\n102  0.949583  0.809410  0.810112  ...  0.866913  0.833715  0.755432   \n103  0.820647  0.825825  0.813123  ...  0.906438  0.793649  0.880346   \n104  0.777952  0.647956  0.699225  ...  0.824098  0.739690  0.864437   \n105  0.661526  0.598045  0.596203  ...  0.436339  0.530597  0.582254   \n106  0.767710  0.742514  0.757498  ...  0.839943  0.758023  0.794439   \n..        ...       ...       ...  ...       ...       ...       ...   \n297  0.772237  0.709060  0.785851  ...  0.651131  0.736530  0.810427   \n298  0.860458  0.867432  0.905296  ...  0.938996  0.855560  0.879513   \n299  0.159759  0.127230  0.119749  ...  0.102691  0.089743  0.136470   \n300  0.093604  0.117607  0.133853  ...  0.068602  0.135918  0.079698   \n301  0.634681  0.651740  0.606142  ...  0.631049  0.694988  0.689953   \n\n         1313      1314      1315      1316      1317      1318      1319  \n102  0.629313  0.945055  0.840856  0.765107  0.895708  0.332683  0.441692  \n103  0.806132  0.811701  0.742028  0.580967  0.449835  0.913095  0.813825  \n104  0.681130  0.727671  0.376796  0.422270  0.310579  0.829240  0.334096  \n105  0.632901  0.626382  0.707072  0.806201  0.923985  0.298925  0.876495  \n106  0.881206  0.734474  0.559867  0.815986  0.837964  0.950674  0.512659  \n..        ...       ...       ...       ...       ...       ...       ...  \n297  0.818461  0.714678  0.578652  0.883875  0.856980  0.399924  0.941027  \n298  0.686790  0.871171  0.593317  0.712688  0.790760  0.387393  0.416767  \n299  0.215489  0.142970  0.063305  0.091536  0.096718  0.111357  0.090370  \n300  0.036750  0.124932  0.022328  0.015469  0.009337  0.021609  0.015862  \n301  0.670800  0.592803  0.782215  0.825555  0.838486  0.817094  0.490349  \n\n[200 rows x 319 columns]",
      "text/html": "<div>\n<style scoped>\n    .dataframe tbody tr th:only-of-type {\n        vertical-align: middle;\n    }\n\n    .dataframe tbody tr th {\n        vertical-align: top;\n    }\n\n    .dataframe thead th {\n        text-align: right;\n    }\n</style>\n<table border=\"1\" class=\"dataframe\">\n  <thead>\n    <tr style=\"text-align: right;\">\n      <th></th>\n      <th>1001</th>\n      <th>1002</th>\n      <th>1003</th>\n      <th>1004</th>\n      <th>1005</th>\n      <th>1006</th>\n      <th>1007</th>\n      <th>1008</th>\n      <th>1009</th>\n      <th>1010</th>\n      <th>...</th>\n      <th>1310</th>\n      <th>1311</th>\n      <th>1312</th>\n      <th>1313</th>\n      <th>1314</th>\n      <th>1315</th>\n      <th>1316</th>\n      <th>1317</th>\n      <th>1318</th>\n      <th>1319</th>\n    </tr>\n  </thead>\n  <tbody>\n    <tr>\n      <th>102</th>\n      <td>0.447620</td>\n      <td>0.796220</td>\n      <td>0.882357</td>\n      <td>0.926009</td>\n      <td>0.790181</td>\n      <td>0.810112</td>\n      <td>0.908526</td>\n      <td>0.949583</td>\n      <td>0.809410</td>\n      <td>0.810112</td>\n      <td>...</td>\n      <td>0.866913</td>\n      <td>0.833715</td>\n      <td>0.755432</td>\n      <td>0.629313</td>\n      <td>0.945055</td>\n      <td>0.840856</td>\n      <td>0.765107</td>\n      <td>0.895708</td>\n      <td>0.332683</td>\n      <td>0.441692</td>\n    </tr>\n    <tr>\n      <th>103</th>\n      <td>0.486131</td>\n      <td>0.743097</td>\n      <td>0.675911</td>\n      <td>0.735216</td>\n      <td>0.724684</td>\n      <td>0.813123</td>\n      <td>0.864365</td>\n      <td>0.820647</td>\n      <td>0.825825</td>\n      <td>0.813123</td>\n      <td>...</td>\n      <td>0.906438</td>\n      <td>0.793649</td>\n      <td>0.880346</td>\n      <td>0.806132</td>\n      <td>0.811701</td>\n      <td>0.742028</td>\n      <td>0.580967</td>\n      <td>0.449835</td>\n      <td>0.913095</td>\n      <td>0.813825</td>\n    </tr>\n    <tr>\n      <th>104</th>\n      <td>0.359534</td>\n      <td>0.848971</td>\n      <td>0.726626</td>\n      <td>0.727342</td>\n      <td>0.637200</td>\n      <td>0.699225</td>\n      <td>0.794419</td>\n      <td>0.777952</td>\n      <td>0.647956</td>\n      <td>0.699225</td>\n      <td>...</td>\n      <td>0.824098</td>\n      <td>0.739690</td>\n      <td>0.864437</td>\n      <td>0.681130</td>\n      <td>0.727671</td>\n      <td>0.376796</td>\n      <td>0.422270</td>\n      <td>0.310579</td>\n      <td>0.829240</td>\n      <td>0.334096</td>\n    </tr>\n    <tr>\n      <th>105</th>\n      <td>0.537420</td>\n      <td>0.277900</td>\n      <td>0.366352</td>\n      <td>0.639179</td>\n      <td>0.538415</td>\n      <td>0.596203</td>\n      <td>0.633679</td>\n      <td>0.661526</td>\n      <td>0.598045</td>\n      <td>0.596203</td>\n      <td>...</td>\n      <td>0.436339</td>\n      <td>0.530597</td>\n      <td>0.582254</td>\n      <td>0.632901</td>\n      <td>0.626382</td>\n      <td>0.707072</td>\n      <td>0.806201</td>\n      <td>0.923985</td>\n      <td>0.298925</td>\n      <td>0.876495</td>\n    </tr>\n    <tr>\n      <th>106</th>\n      <td>0.539348</td>\n      <td>0.846598</td>\n      <td>0.871160</td>\n      <td>0.733971</td>\n      <td>0.680143</td>\n      <td>0.757498</td>\n      <td>0.833838</td>\n      <td>0.767710</td>\n      <td>0.742514</td>\n      <td>0.757498</td>\n      <td>...</td>\n      <td>0.839943</td>\n      <td>0.758023</td>\n      <td>0.794439</td>\n      <td>0.881206</td>\n      <td>0.734474</td>\n      <td>0.559867</td>\n      <td>0.815986</td>\n      <td>0.837964</td>\n      <td>0.950674</td>\n      <td>0.512659</td>\n    </tr>\n    <tr>\n      <th>...</th>\n      <td>...</td>\n      <td>...</td>\n      <td>...</td>\n      <td>...</td>\n      <td>...</td>\n      <td>...</td>\n      <td>...</td>\n      <td>...</td>\n      <td>...</td>\n      <td>...</td>\n      <td>...</td>\n      <td>...</td>\n      <td>...</td>\n      <td>...</td>\n      <td>...</td>\n      <td>...</td>\n      <td>...</td>\n      <td>...</td>\n      <td>...</td>\n      <td>...</td>\n      <td>...</td>\n    </tr>\n    <tr>\n      <th>297</th>\n      <td>0.876787</td>\n      <td>0.958646</td>\n      <td>0.976231</td>\n      <td>0.762311</td>\n      <td>0.659011</td>\n      <td>0.785851</td>\n      <td>0.848705</td>\n      <td>0.772237</td>\n      <td>0.709060</td>\n      <td>0.785851</td>\n      <td>...</td>\n      <td>0.651131</td>\n      <td>0.736530</td>\n      <td>0.810427</td>\n      <td>0.818461</td>\n      <td>0.714678</td>\n      <td>0.578652</td>\n      <td>0.883875</td>\n      <td>0.856980</td>\n      <td>0.399924</td>\n      <td>0.941027</td>\n    </tr>\n    <tr>\n      <th>298</th>\n      <td>0.470685</td>\n      <td>0.840599</td>\n      <td>0.905895</td>\n      <td>0.810684</td>\n      <td>0.791241</td>\n      <td>0.905296</td>\n      <td>0.923860</td>\n      <td>0.860458</td>\n      <td>0.867432</td>\n      <td>0.905296</td>\n      <td>...</td>\n      <td>0.938996</td>\n      <td>0.855560</td>\n      <td>0.879513</td>\n      <td>0.686790</td>\n      <td>0.871171</td>\n      <td>0.593317</td>\n      <td>0.712688</td>\n      <td>0.790760</td>\n      <td>0.387393</td>\n      <td>0.416767</td>\n    </tr>\n    <tr>\n      <th>299</th>\n      <td>0.080036</td>\n      <td>0.071267</td>\n      <td>0.033226</td>\n      <td>0.141109</td>\n      <td>0.147908</td>\n      <td>0.119749</td>\n      <td>0.120877</td>\n      <td>0.159759</td>\n      <td>0.127230</td>\n      <td>0.119749</td>\n      <td>...</td>\n      <td>0.102691</td>\n      <td>0.089743</td>\n      <td>0.136470</td>\n      <td>0.215489</td>\n      <td>0.142970</td>\n      <td>0.063305</td>\n      <td>0.091536</td>\n      <td>0.096718</td>\n      <td>0.111357</td>\n      <td>0.090370</td>\n    </tr>\n    <tr>\n      <th>300</th>\n      <td>0.008885</td>\n      <td>0.011866</td>\n      <td>0.004480</td>\n      <td>0.156561</td>\n      <td>0.117478</td>\n      <td>0.133853</td>\n      <td>0.134981</td>\n      <td>0.093604</td>\n      <td>0.117607</td>\n      <td>0.133853</td>\n      <td>...</td>\n      <td>0.068602</td>\n      <td>0.135918</td>\n      <td>0.079698</td>\n      <td>0.036750</td>\n      <td>0.124932</td>\n      <td>0.022328</td>\n      <td>0.015469</td>\n      <td>0.009337</td>\n      <td>0.021609</td>\n      <td>0.015862</td>\n    </tr>\n    <tr>\n      <th>301</th>\n      <td>0.818407</td>\n      <td>0.827250</td>\n      <td>0.851389</td>\n      <td>0.623979</td>\n      <td>0.544076</td>\n      <td>0.606142</td>\n      <td>0.669200</td>\n      <td>0.634681</td>\n      <td>0.651740</td>\n      <td>0.606142</td>\n      <td>...</td>\n      <td>0.631049</td>\n      <td>0.694988</td>\n      <td>0.689953</td>\n      <td>0.670800</td>\n      <td>0.592803</td>\n      <td>0.782215</td>\n      <td>0.825555</td>\n      <td>0.838486</td>\n      <td>0.817094</td>\n      <td>0.490349</td>\n    </tr>\n  </tbody>\n</table>\n<p>200 rows × 319 columns</p>\n</div>"
     },
     "execution_count": 23,
     "metadata": {},
     "output_type": "execute_result"
    }
   ],
   "source": [
    "price_matrix = np.reciprocal(euclidean_distances(np.array(product_cat['price']).reshape(-1,1))+1)\n",
    "euclidean_matrix1 = pd.DataFrame(price_matrix,columns=product_cat['product_id'],index=product_cat['product_id'])\n",
    "\n",
    "rating_matrix = np.reciprocal(euclidean_distances(np.array(product_cat['user_rating']).reshape(-1,1))+1)\n",
    "euclidean_matrix2 = pd.DataFrame(rating_matrix,columns=product_cat['product_id'],index=product_cat['product_id'])\n",
    "\n",
    "tfidf_vectorizer = TfidfVectorizer()\n",
    "doc_term = tfidf_vectorizer.fit_transform(list(product_cat['category_path']))\n",
    "dt_matrix = pd.DataFrame(doc_term.toarray().round(3), index=[i for i in product_cat['product_id']], columns=tfidf_vectorizer.get_feature_names())\n",
    "cos_similar_matrix = pd.DataFrame(cosine_similarity(dt_matrix.values),columns=product_cat['product_id'],index=product_cat['product_id'])\n",
    "\n",
    "similarity_matrix = euclidean_matrix1.multiply(euclidean_matrix2).multiply(cos_similar_matrix)\n",
    "content_matrix = train_matrix.dot(similarity_matrix)\n",
    "std2 = MinMaxScaler(feature_range=(0, 1))\n",
    "std2.fit(content_matrix.values)\n",
    "content_matrix = std2.transform(content_matrix.values)\n",
    "content_matrix = pd.DataFrame(content_matrix,columns=sorted(trainsetB['product_id'].unique()),index=sorted(trainsetB['user_id'].unique()))\n",
    "content_matrix"
   ]
  },
  {
   "cell_type": "code",
   "execution_count": 24,
   "id": "1e9506a6",
   "metadata": {},
   "outputs": [
    {
     "data": {
      "text/plain": "       user_id  product_id  predicted_interaction\n0          102        1001               0.447620\n1          102        1002               0.796220\n2          102        1003               0.882357\n3          102        1004               0.926009\n4          102        1005               0.790181\n...        ...         ...                    ...\n63795      301        1315               0.782215\n63796      301        1316               0.825555\n63797      301        1317               0.838486\n63798      301        1318               0.817094\n63799      301        1319               0.490349\n\n[63800 rows x 3 columns]",
      "text/html": "<div>\n<style scoped>\n    .dataframe tbody tr th:only-of-type {\n        vertical-align: middle;\n    }\n\n    .dataframe tbody tr th {\n        vertical-align: top;\n    }\n\n    .dataframe thead th {\n        text-align: right;\n    }\n</style>\n<table border=\"1\" class=\"dataframe\">\n  <thead>\n    <tr style=\"text-align: right;\">\n      <th></th>\n      <th>user_id</th>\n      <th>product_id</th>\n      <th>predicted_interaction</th>\n    </tr>\n  </thead>\n  <tbody>\n    <tr>\n      <th>0</th>\n      <td>102</td>\n      <td>1001</td>\n      <td>0.447620</td>\n    </tr>\n    <tr>\n      <th>1</th>\n      <td>102</td>\n      <td>1002</td>\n      <td>0.796220</td>\n    </tr>\n    <tr>\n      <th>2</th>\n      <td>102</td>\n      <td>1003</td>\n      <td>0.882357</td>\n    </tr>\n    <tr>\n      <th>3</th>\n      <td>102</td>\n      <td>1004</td>\n      <td>0.926009</td>\n    </tr>\n    <tr>\n      <th>4</th>\n      <td>102</td>\n      <td>1005</td>\n      <td>0.790181</td>\n    </tr>\n    <tr>\n      <th>...</th>\n      <td>...</td>\n      <td>...</td>\n      <td>...</td>\n    </tr>\n    <tr>\n      <th>63795</th>\n      <td>301</td>\n      <td>1315</td>\n      <td>0.782215</td>\n    </tr>\n    <tr>\n      <th>63796</th>\n      <td>301</td>\n      <td>1316</td>\n      <td>0.825555</td>\n    </tr>\n    <tr>\n      <th>63797</th>\n      <td>301</td>\n      <td>1317</td>\n      <td>0.838486</td>\n    </tr>\n    <tr>\n      <th>63798</th>\n      <td>301</td>\n      <td>1318</td>\n      <td>0.817094</td>\n    </tr>\n    <tr>\n      <th>63799</th>\n      <td>301</td>\n      <td>1319</td>\n      <td>0.490349</td>\n    </tr>\n  </tbody>\n</table>\n<p>63800 rows × 3 columns</p>\n</div>"
     },
     "execution_count": 24,
     "metadata": {},
     "output_type": "execute_result"
    }
   ],
   "source": [
    "content_df = content_matrix.stack().reset_index()\n",
    "content_df = content_df.rename(columns={'level_0':'user_id','level_1':'product_id',0:'predicted_interaction'})\n",
    "content_df"
   ]
  },
  {
   "cell_type": "code",
   "execution_count": 25,
   "id": "1ace5de9",
   "metadata": {},
   "outputs": [],
   "source": [
    "def get_recommendationB(content_df, user_id, dataset, K):\n",
    "    s = dataset.index[dataset['user_id'] == user_id].tolist()\n",
    "    ids = []\n",
    "    for i in s:\n",
    "        ids.append(dataset['product_id'].iloc[i])\n",
    "        \n",
    "    user_content_df = content_df.loc[content_df['user_id'] == user_id]\n",
    "    \n",
    "    mini = user_content_df['predicted_interaction'].min()\n",
    "    for id in ids:\n",
    "        user_content_df.loc[user_content_df['product_id'] == id, 'predicted_interaction'] = mini\n",
    "        \n",
    "    user_content_df = user_content_df.sort_values(by=\"predicted_interaction\", ascending=False)\n",
    "    \n",
    "    recommendations = []\n",
    "    for x in range(K):\n",
    "        recommendations.append(user_content_df['product_id'].iloc[x])\n",
    "    return recommendations"
   ]
  },
  {
   "cell_type": "code",
   "execution_count": 26,
   "id": "e7ae5f30",
   "metadata": {},
   "outputs": [
    {
     "name": "stderr",
     "output_type": "stream",
     "text": [
      "C:\\Users\\patry\\PycharmProjects\\SSNE_labs\\venv\\lib\\site-packages\\pandas\\core\\indexing.py:1817: SettingWithCopyWarning: \n",
      "A value is trying to be set on a copy of a slice from a DataFrame.\n",
      "Try using .loc[row_indexer,col_indexer] = value instead\n",
      "\n",
      "See the caveats in the documentation: https://pandas.pydata.org/pandas-docs/stable/user_guide/indexing.html#returning-a-view-versus-a-copy\n",
      "  self._setitem_single_column(loc, value, pi)\n"
     ]
    },
    {
     "data": {
      "text/plain": "[1193, 1267, 1244, 1250, 1168]"
     },
     "execution_count": 26,
     "metadata": {},
     "output_type": "execute_result"
    }
   ],
   "source": [
    "get_recommendationB(content_df, 102, trainsetB, 5)"
   ]
  },
  {
   "cell_type": "code",
   "execution_count": 27,
   "id": "36ff511a",
   "metadata": {},
   "outputs": [
    {
     "name": "stdout",
     "output_type": "stream",
     "text": [
      "108\n",
      "119\n"
     ]
    },
    {
     "name": "stderr",
     "output_type": "stream",
     "text": [
      "C:\\Users\\patry\\PycharmProjects\\SSNE_labs\\venv\\lib\\site-packages\\pandas\\core\\indexing.py:1817: SettingWithCopyWarning: \n",
      "A value is trying to be set on a copy of a slice from a DataFrame.\n",
      "Try using .loc[row_indexer,col_indexer] = value instead\n",
      "\n",
      "See the caveats in the documentation: https://pandas.pydata.org/pandas-docs/stable/user_guide/indexing.html#returning-a-view-versus-a-copy\n",
      "  self._setitem_single_column(loc, value, pi)\n"
     ]
    },
    {
     "name": "stdout",
     "output_type": "stream",
     "text": [
      "121\n",
      "128\n",
      "130\n",
      "131\n",
      "132\n",
      "144\n",
      "146\n",
      "147\n",
      "149\n",
      "154\n",
      "166\n",
      "175\n",
      "180\n",
      "183\n",
      "188\n",
      "190\n",
      "195\n",
      "203\n",
      "210\n",
      "211\n",
      "213\n",
      "217\n",
      "224\n",
      "228\n",
      "236\n",
      "239\n",
      "242\n",
      "255\n",
      "259\n",
      "260\n",
      "261\n",
      "270\n",
      "273\n",
      "275\n",
      "280\n",
      "284\n",
      "288\n",
      "289\n",
      "291\n",
      "294\n",
      "295\n",
      "297\n",
      "298\n",
      "300\n"
     ]
    },
    {
     "data": {
      "text/plain": "0.40869565217391307"
     },
     "execution_count": 27,
     "metadata": {},
     "output_type": "execute_result"
    }
   ],
   "source": [
    "correct = 0\n",
    "for index, user in test_users.iterrows():\n",
    "    print(user['user_id'])\n",
    "    recommendations = get_recommendationB(content_df, user['user_id'], trainsetB, 5)\n",
    "    for recommendation in recommendations:\n",
    "        view = testsetB[(testsetB['product_id'] == recommendation) & (testsetB['user_id'] == user['user_id'])]['user_view']\n",
    "        if len(view) != 0:\n",
    "            view = view.item()\n",
    "            if view == 1:\n",
    "                correct = correct + 1\n",
    "correct / (5 * len(test_users))"
   ]
  }
 ],
 "metadata": {
  "kernelspec": {
   "display_name": "Python 3 (ipykernel)",
   "language": "python",
   "name": "python3"
  },
  "language_info": {
   "codemirror_mode": {
    "name": "ipython",
    "version": 3
   },
   "file_extension": ".py",
   "mimetype": "text/x-python",
   "name": "python",
   "nbconvert_exporter": "python",
   "pygments_lexer": "ipython3",
   "version": "3.9.7"
  }
 },
 "nbformat": 4,
 "nbformat_minor": 5
}